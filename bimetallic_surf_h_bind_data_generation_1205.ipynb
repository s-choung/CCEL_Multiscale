{
  "cells": [
    {
      "cell_type": "markdown",
      "metadata": {
        "id": "view-in-github",
        "colab_type": "text"
      },
      "source": [
        "<a href=\"https://colab.research.google.com/github/s-choung/CCEL_Multiscale/blob/main/bimetallic_surf_h_bind_data_generation_1205.ipynb\" target=\"_parent\"><img src=\"https://colab.research.google.com/assets/colab-badge.svg\" alt=\"Open In Colab\"/></a>"
      ]
    },
    {
      "cell_type": "markdown",
      "source": [
        "This code is written by S.Choung for the purpose of generating HBE and OHBE of bimetallic alloy slabs, leveraging OCDATASET module, pymatgen, ase and OCP. For Jinuk. 5th Dec"
      ],
      "metadata": {
        "id": "V2ATkZk2Xc4G"
      }
    },
    {
      "cell_type": "markdown",
      "metadata": {
        "id": "5-JateToGjJk"
      },
      "source": [
        "## OCP installation"
      ]
    },
    {
      "cell_type": "code",
      "source": [
        "from google.colab import drive\n",
        "import os\n",
        "\n",
        "drive.mount('/content/drive')\n",
        "# Set the path to your pseudopotential files in Google Drive\n",
        "pp_drive_path = '/content/drive/My Drive/potcars'  # Update this path to your actual directory\n",
        "# Set the VASP_PP_PATH environment variable\n",
        "os.environ['VASP_PP_PATH'] = pp_drive_path\n"
      ],
      "metadata": {
        "colab": {
          "base_uri": "https://localhost:8080/"
        },
        "id": "21Lzcd4mB0cQ",
        "outputId": "afe9e554-18ea-40ab-d7dd-926d8576ec5d"
      },
      "execution_count": 1,
      "outputs": [
        {
          "output_type": "stream",
          "name": "stdout",
          "text": [
            "Mounted at /content/drive\n"
          ]
        }
      ]
    },
    {
      "cell_type": "code",
      "execution_count": 2,
      "metadata": {
        "colab": {
          "base_uri": "https://localhost:8080/"
        },
        "id": "979M637dgdx6",
        "outputId": "6ef03da7-ac0b-4736-e786-808b7aec0701"
      },
      "outputs": [
        {
          "output_type": "stream",
          "name": "stdout",
          "text": [
            "2.1.0+cu118\n",
            "\u001b[2K     \u001b[90m━━━━━━━━━━━━━━━━━━━━━━━━━━━━━━━━━━━━━━━━\u001b[0m \u001b[32m10.2/10.2 MB\u001b[0m \u001b[31m16.5 MB/s\u001b[0m eta \u001b[36m0:00:00\u001b[0m\n",
            "\u001b[2K     \u001b[90m━━━━━━━━━━━━━━━━━━━━━━━━━━━━━━━━━━━━━━━━\u001b[0m \u001b[32m4.9/4.9 MB\u001b[0m \u001b[31m9.4 MB/s\u001b[0m eta \u001b[36m0:00:00\u001b[0m\n",
            "\u001b[2K     \u001b[90m━━━━━━━━━━━━━━━━━━━━━━━━━━━━━━━━━━━━━━━━\u001b[0m \u001b[32m3.3/3.3 MB\u001b[0m \u001b[31m33.2 MB/s\u001b[0m eta \u001b[36m0:00:00\u001b[0m\n",
            "\u001b[?25h  Installing build dependencies ... \u001b[?25l\u001b[?25hdone\n",
            "  Getting requirements to build wheel ... \u001b[?25l\u001b[?25hdone\n",
            "  Preparing metadata (pyproject.toml) ... \u001b[?25l\u001b[?25hdone\n",
            "  Building wheel for torch_geometric (pyproject.toml) ... \u001b[?25l\u001b[?25hdone\n",
            "Cloning into 'ocp'...\n",
            "remote: Enumerating objects: 11841, done.\u001b[K\n",
            "remote: Counting objects: 100% (2914/2914), done.\u001b[K\n",
            "remote: Compressing objects: 100% (716/716), done.\u001b[K\n",
            "remote: Total 11841 (delta 2506), reused 2351 (delta 2197), pack-reused 8927\u001b[K\n",
            "Receiving objects: 100% (11841/11841), 172.64 MiB | 38.31 MiB/s, done.\n",
            "Resolving deltas: 100% (8158/8158), done.\n",
            "Obtaining file:///content/ocp\n",
            "  Installing build dependencies ... \u001b[?25l\u001b[?25hdone\n",
            "  Checking if build backend supports build_editable ... \u001b[?25l\u001b[?25hdone\n",
            "  Getting requirements to build editable ... \u001b[?25l\u001b[?25hdone\n",
            "  Preparing editable metadata (pyproject.toml) ... \u001b[?25l\u001b[?25hdone\n",
            "Building wheels for collected packages: ocp-models\n",
            "  Building editable for ocp-models (pyproject.toml) ... \u001b[?25l\u001b[?25hdone\n",
            "  Created wheel for ocp-models: filename=ocp_models-0.0.3-0.editable-py3-none-any.whl size=3472 sha256=640a4c348e9091e1becbd70299c1ed8f944146b35ac4e59041a44348c37a3ae5\n",
            "  Stored in directory: /tmp/pip-ephem-wheel-cache-bochl3ir/wheels/29/db/87/61b8ac706262b22238c01b070b675db289c051f2d890c74f3b\n",
            "Successfully built ocp-models\n",
            "Installing collected packages: ocp-models\n",
            "Successfully installed ocp-models-0.0.3\n",
            "\u001b[2K     \u001b[90m━━━━━━━━━━━━━━━━━━━━━━━━━━━━━━━━━━━━━━━━\u001b[0m \u001b[32m299.2/299.2 kB\u001b[0m \u001b[31m5.1 MB/s\u001b[0m eta \u001b[36m0:00:00\u001b[0m\n",
            "\u001b[2K     \u001b[90m━━━━━━━━━━━━━━━━━━━━━━━━━━━━━━━━━━━━━━━━\u001b[0m \u001b[32m12.4/12.4 MB\u001b[0m \u001b[31m25.2 MB/s\u001b[0m eta \u001b[36m0:00:00\u001b[0m\n",
            "\u001b[2K     \u001b[90m━━━━━━━━━━━━━━━━━━━━━━━━━━━━━━━━━━━━━━━━\u001b[0m \u001b[32m2.2/2.2 MB\u001b[0m \u001b[31m79.9 MB/s\u001b[0m eta \u001b[36m0:00:00\u001b[0m\n",
            "\u001b[2K     \u001b[90m━━━━━━━━━━━━━━━━━━━━━━━━━━━━━━━━━━━━━━━━\u001b[0m \u001b[32m138.7/138.7 kB\u001b[0m \u001b[31m17.3 MB/s\u001b[0m eta \u001b[36m0:00:00\u001b[0m\n",
            "\u001b[2K     \u001b[90m━━━━━━━━━━━━━━━━━━━━━━━━━━━━━━━━━━━━━━━━\u001b[0m \u001b[32m367.5/367.5 kB\u001b[0m \u001b[31m35.4 MB/s\u001b[0m eta \u001b[36m0:00:00\u001b[0m\n",
            "\u001b[2K     \u001b[90m━━━━━━━━━━━━━━━━━━━━━━━━━━━━━━━━━━━━━━━━\u001b[0m \u001b[32m2.1/2.1 MB\u001b[0m \u001b[31m89.8 MB/s\u001b[0m eta \u001b[36m0:00:00\u001b[0m\n",
            "\u001b[2K     \u001b[90m━━━━━━━━━━━━━━━━━━━━━━━━━━━━━━━━━━━━━━━━\u001b[0m \u001b[32m42.7/42.7 kB\u001b[0m \u001b[31m5.5 MB/s\u001b[0m eta \u001b[36m0:00:00\u001b[0m\n",
            "\u001b[2K     \u001b[90m━━━━━━━━━━━━━━━━━━━━━━━━━━━━━━━━━━━━━━━━\u001b[0m \u001b[32m96.6/96.6 kB\u001b[0m \u001b[31m11.1 MB/s\u001b[0m eta \u001b[36m0:00:00\u001b[0m\n",
            "\u001b[2K     \u001b[90m━━━━━━━━━━━━━━━━━━━━━━━━━━━━━━━━━━━━━━━━\u001b[0m \u001b[32m332.3/332.3 kB\u001b[0m \u001b[31m34.3 MB/s\u001b[0m eta \u001b[36m0:00:00\u001b[0m\n",
            "\u001b[2K     \u001b[90m━━━━━━━━━━━━━━━━━━━━━━━━━━━━━━━━━━━━━━━━\u001b[0m \u001b[32m561.4/561.4 kB\u001b[0m \u001b[31m44.5 MB/s\u001b[0m eta \u001b[36m0:00:00\u001b[0m\n",
            "\u001b[2K     \u001b[90m━━━━━━━━━━━━━━━━━━━━━━━━━━━━━━━━━━━━━━━━\u001b[0m \u001b[32m116.4/116.4 kB\u001b[0m \u001b[31m13.4 MB/s\u001b[0m eta \u001b[36m0:00:00\u001b[0m\n",
            "\u001b[2K     \u001b[90m━━━━━━━━━━━━━━━━━━━━━━━━━━━━━━━━━━━━━━━━\u001b[0m \u001b[32m802.1/802.1 kB\u001b[0m \u001b[31m57.3 MB/s\u001b[0m eta \u001b[36m0:00:00\u001b[0m\n",
            "\u001b[2K     \u001b[90m━━━━━━━━━━━━━━━━━━━━━━━━━━━━━━━━━━━━━━━━\u001b[0m \u001b[32m98.4/98.4 kB\u001b[0m \u001b[31m12.0 MB/s\u001b[0m eta \u001b[36m0:00:00\u001b[0m\n",
            "\u001b[2K     \u001b[90m━━━━━━━━━━━━━━━━━━━━━━━━━━━━━━━━━━━━━━━━\u001b[0m \u001b[32m190.6/190.6 kB\u001b[0m \u001b[31m21.6 MB/s\u001b[0m eta \u001b[36m0:00:00\u001b[0m\n",
            "\u001b[2K     \u001b[90m━━━━━━━━━━━━━━━━━━━━━━━━━━━━━━━━━━━━━━━━\u001b[0m \u001b[32m252.8/252.8 kB\u001b[0m \u001b[31m26.5 MB/s\u001b[0m eta \u001b[36m0:00:00\u001b[0m\n",
            "\u001b[2K     \u001b[90m━━━━━━━━━━━━━━━━━━━━━━━━━━━━━━━━━━━━━━━━\u001b[0m \u001b[32m62.7/62.7 kB\u001b[0m \u001b[31m7.1 MB/s\u001b[0m eta \u001b[36m0:00:00\u001b[0m\n",
            "\u001b[2K     \u001b[90m━━━━━━━━━━━━━━━━━━━━━━━━━━━━━━━━━━━━━━━━\u001b[0m \u001b[32m110.3/110.3 kB\u001b[0m \u001b[31m12.8 MB/s\u001b[0m eta \u001b[36m0:00:00\u001b[0m\n",
            "\u001b[2K     \u001b[90m━━━━━━━━━━━━━━━━━━━━━━━━━━━━━━━━━━━━━━━━\u001b[0m \u001b[32m175.8/175.8 kB\u001b[0m \u001b[31m19.7 MB/s\u001b[0m eta \u001b[36m0:00:00\u001b[0m\n",
            "\u001b[2K     \u001b[90m━━━━━━━━━━━━━━━━━━━━━━━━━━━━━━━━━━━━━━━━\u001b[0m \u001b[32m526.7/526.7 kB\u001b[0m \u001b[31m37.1 MB/s\u001b[0m eta \u001b[36m0:00:00\u001b[0m\n",
            "\u001b[2K     \u001b[90m━━━━━━━━━━━━━━━━━━━━━━━━━━━━━━━━━━━━━━━━\u001b[0m \u001b[32m175.8/175.8 kB\u001b[0m \u001b[31m18.6 MB/s\u001b[0m eta \u001b[36m0:00:00\u001b[0m\n",
            "\u001b[2K     \u001b[90m━━━━━━━━━━━━━━━━━━━━━━━━━━━━━━━━━━━━━━━━\u001b[0m \u001b[32m175.8/175.8 kB\u001b[0m \u001b[31m22.1 MB/s\u001b[0m eta \u001b[36m0:00:00\u001b[0m\n",
            "\u001b[2K     \u001b[90m━━━━━━━━━━━━━━━━━━━━━━━━━━━━━━━━━━━━━━━━\u001b[0m \u001b[32m175.8/175.8 kB\u001b[0m \u001b[31m19.2 MB/s\u001b[0m eta \u001b[36m0:00:00\u001b[0m\n",
            "\u001b[2K     \u001b[90m━━━━━━━━━━━━━━━━━━━━━━━━━━━━━━━━━━━━━━━━\u001b[0m \u001b[32m175.7/175.7 kB\u001b[0m \u001b[31m19.5 MB/s\u001b[0m eta \u001b[36m0:00:00\u001b[0m\n",
            "\u001b[2K     \u001b[90m━━━━━━━━━━━━━━━━━━━━━━━━━━━━━━━━━━━━━━━━\u001b[0m \u001b[32m96.6/96.6 kB\u001b[0m \u001b[31m11.2 MB/s\u001b[0m eta \u001b[36m0:00:00\u001b[0m\n",
            "\u001b[2K     \u001b[90m━━━━━━━━━━━━━━━━━━━━━━━━━━━━━━━━━━━━━━━━\u001b[0m \u001b[32m96.5/96.5 kB\u001b[0m \u001b[31m13.2 MB/s\u001b[0m eta \u001b[36m0:00:00\u001b[0m\n",
            "\u001b[2K     \u001b[90m━━━━━━━━━━━━━━━━━━━━━━━━━━━━━━━━━━━━━━━━\u001b[0m \u001b[32m98.7/98.7 kB\u001b[0m \u001b[31m10.6 MB/s\u001b[0m eta \u001b[36m0:00:00\u001b[0m\n",
            "\u001b[2K     \u001b[90m━━━━━━━━━━━━━━━━━━━━━━━━━━━━━━━━━━━━━━━━\u001b[0m \u001b[32m175.7/175.7 kB\u001b[0m \u001b[31m19.9 MB/s\u001b[0m eta \u001b[36m0:00:00\u001b[0m\n",
            "\u001b[2K     \u001b[90m━━━━━━━━━━━━━━━━━━━━━━━━━━━━━━━━━━━━━━━━\u001b[0m \u001b[32m175.1/175.1 kB\u001b[0m \u001b[31m17.3 MB/s\u001b[0m eta \u001b[36m0:00:00\u001b[0m\n",
            "\u001b[2K     \u001b[90m━━━━━━━━━━━━━━━━━━━━━━━━━━━━━━━━━━━━━━━━\u001b[0m \u001b[32m175.1/175.1 kB\u001b[0m \u001b[31m21.4 MB/s\u001b[0m eta \u001b[36m0:00:00\u001b[0m\n",
            "\u001b[2K     \u001b[90m━━━━━━━━━━━━━━━━━━━━━━━━━━━━━━━━━━━━━━━━\u001b[0m \u001b[32m175.1/175.1 kB\u001b[0m \u001b[31m18.6 MB/s\u001b[0m eta \u001b[36m0:00:00\u001b[0m\n",
            "\u001b[2K     \u001b[90m━━━━━━━━━━━━━━━━━━━━━━━━━━━━━━━━━━━━━━━━\u001b[0m \u001b[32m175.1/175.1 kB\u001b[0m \u001b[31m21.6 MB/s\u001b[0m eta \u001b[36m0:00:00\u001b[0m\n",
            "\u001b[2K     \u001b[90m━━━━━━━━━━━━━━━━━━━━━━━━━━━━━━━━━━━━━━━━\u001b[0m \u001b[32m175.1/175.1 kB\u001b[0m \u001b[31m19.7 MB/s\u001b[0m eta \u001b[36m0:00:00\u001b[0m\n",
            "\u001b[2K     \u001b[90m━━━━━━━━━━━━━━━━━━━━━━━━━━━━━━━━━━━━━━━━\u001b[0m \u001b[32m174.8/174.8 kB\u001b[0m \u001b[31m18.9 MB/s\u001b[0m eta \u001b[36m0:00:00\u001b[0m\n",
            "\u001b[2K     \u001b[90m━━━━━━━━━━━━━━━━━━━━━━━━━━━━━━━━━━━━━━━━\u001b[0m \u001b[32m175.0/175.0 kB\u001b[0m \u001b[31m20.0 MB/s\u001b[0m eta \u001b[36m0:00:00\u001b[0m\n",
            "\u001b[2K     \u001b[90m━━━━━━━━━━━━━━━━━━━━━━━━━━━━━━━━━━━━━━━━\u001b[0m \u001b[32m174.7/174.7 kB\u001b[0m \u001b[31m19.6 MB/s\u001b[0m eta \u001b[36m0:00:00\u001b[0m\n",
            "\u001b[2K     \u001b[90m━━━━━━━━━━━━━━━━━━━━━━━━━━━━━━━━━━━━━━━━\u001b[0m \u001b[32m174.7/174.7 kB\u001b[0m \u001b[31m20.3 MB/s\u001b[0m eta \u001b[36m0:00:00\u001b[0m\n",
            "\u001b[2K     \u001b[90m━━━━━━━━━━━━━━━━━━━━━━━━━━━━━━━━━━━━━━━━\u001b[0m \u001b[32m174.7/174.7 kB\u001b[0m \u001b[31m21.4 MB/s\u001b[0m eta \u001b[36m0:00:00\u001b[0m\n",
            "\u001b[2K     \u001b[90m━━━━━━━━━━━━━━━━━━━━━━━━━━━━━━━━━━━━━━━━\u001b[0m \u001b[32m174.7/174.7 kB\u001b[0m \u001b[31m19.5 MB/s\u001b[0m eta \u001b[36m0:00:00\u001b[0m\n",
            "\u001b[2K     \u001b[90m━━━━━━━━━━━━━━━━━━━━━━━━━━━━━━━━━━━━━━━━\u001b[0m \u001b[32m174.7/174.7 kB\u001b[0m \u001b[31m20.1 MB/s\u001b[0m eta \u001b[36m0:00:00\u001b[0m\n",
            "\u001b[2K     \u001b[90m━━━━━━━━━━━━━━━━━━━━━━━━━━━━━━━━━━━━━━━━\u001b[0m \u001b[32m174.7/174.7 kB\u001b[0m \u001b[31m21.3 MB/s\u001b[0m eta \u001b[36m0:00:00\u001b[0m\n",
            "\u001b[2K     \u001b[90m━━━━━━━━━━━━━━━━━━━━━━━━━━━━━━━━━━━━━━━━\u001b[0m \u001b[32m174.7/174.7 kB\u001b[0m \u001b[31m20.2 MB/s\u001b[0m eta \u001b[36m0:00:00\u001b[0m\n",
            "\u001b[2K     \u001b[90m━━━━━━━━━━━━━━━━━━━━━━━━━━━━━━━━━━━━━━━━\u001b[0m \u001b[32m174.7/174.7 kB\u001b[0m \u001b[31m18.1 MB/s\u001b[0m eta \u001b[36m0:00:00\u001b[0m\n",
            "\u001b[2K     \u001b[90m━━━━━━━━━━━━━━━━━━━━━━━━━━━━━━━━━━━━━━━━\u001b[0m \u001b[32m174.7/174.7 kB\u001b[0m \u001b[31m20.4 MB/s\u001b[0m eta \u001b[36m0:00:00\u001b[0m\n",
            "\u001b[2K     \u001b[90m━━━━━━━━━━━━━━━━━━━━━━━━━━━━━━━━━━━━━━━━\u001b[0m \u001b[32m174.7/174.7 kB\u001b[0m \u001b[31m21.2 MB/s\u001b[0m eta \u001b[36m0:00:00\u001b[0m\n",
            "\u001b[2K     \u001b[90m━━━━━━━━━━━━━━━━━━━━━━━━━━━━━━━━━━━━━━━━\u001b[0m \u001b[32m174.7/174.7 kB\u001b[0m \u001b[31m20.3 MB/s\u001b[0m eta \u001b[36m0:00:00\u001b[0m\n",
            "\u001b[2K     \u001b[90m━━━━━━━━━━━━━━━━━━━━━━━━━━━━━━━━━━━━━━━━\u001b[0m \u001b[32m174.5/174.5 kB\u001b[0m \u001b[31m20.8 MB/s\u001b[0m eta \u001b[36m0:00:00\u001b[0m\n",
            "\u001b[2K     \u001b[90m━━━━━━━━━━━━━━━━━━━━━━━━━━━━━━━━━━━━━━━━\u001b[0m \u001b[32m174.5/174.5 kB\u001b[0m \u001b[31m9.1 MB/s\u001b[0m eta \u001b[36m0:00:00\u001b[0m\n",
            "\u001b[2K     \u001b[90m━━━━━━━━━━━━━━━━━━━━━━━━━━━━━━━━━━━━━━━━\u001b[0m \u001b[32m174.5/174.5 kB\u001b[0m \u001b[31m12.7 MB/s\u001b[0m eta \u001b[36m0:00:00\u001b[0m\n",
            "\u001b[2K     \u001b[90m━━━━━━━━━━━━━━━━━━━━━━━━━━━━━━━━━━━━━━━━\u001b[0m \u001b[32m174.5/174.5 kB\u001b[0m \u001b[31m18.9 MB/s\u001b[0m eta \u001b[36m0:00:00\u001b[0m\n",
            "\u001b[2K     \u001b[90m━━━━━━━━━━━━━━━━━━━━━━━━━━━━━━━━━━━━━━━━\u001b[0m \u001b[32m174.5/174.5 kB\u001b[0m \u001b[31m20.5 MB/s\u001b[0m eta \u001b[36m0:00:00\u001b[0m\n",
            "\u001b[2K     \u001b[90m━━━━━━━━━━━━━━━━━━━━━━━━━━━━━━━━━━━━━━━━\u001b[0m \u001b[32m174.5/174.5 kB\u001b[0m \u001b[31m22.0 MB/s\u001b[0m eta \u001b[36m0:00:00\u001b[0m\n",
            "\u001b[2K     \u001b[90m━━━━━━━━━━━━━━━━━━━━━━━━━━━━━━━━━━━━━━━━\u001b[0m \u001b[32m174.5/174.5 kB\u001b[0m \u001b[31m20.5 MB/s\u001b[0m eta \u001b[36m0:00:00\u001b[0m\n",
            "\u001b[2K     \u001b[90m━━━━━━━━━━━━━━━━━━━━━━━━━━━━━━━━━━━━━━━━\u001b[0m \u001b[32m174.5/174.5 kB\u001b[0m \u001b[31m17.8 MB/s\u001b[0m eta \u001b[36m0:00:00\u001b[0m\n",
            "\u001b[2K     \u001b[90m━━━━━━━━━━━━━━━━━━━━━━━━━━━━━━━━━━━━━━━━\u001b[0m \u001b[32m174.5/174.5 kB\u001b[0m \u001b[31m19.8 MB/s\u001b[0m eta \u001b[36m0:00:00\u001b[0m\n",
            "\u001b[2K     \u001b[90m━━━━━━━━━━━━━━━━━━━━━━━━━━━━━━━━━━━━━━━━\u001b[0m \u001b[32m174.5/174.5 kB\u001b[0m \u001b[31m20.9 MB/s\u001b[0m eta \u001b[36m0:00:00\u001b[0m\n",
            "\u001b[2K     \u001b[90m━━━━━━━━━━━━━━━━━━━━━━━━━━━━━━━━━━━━━━━━\u001b[0m \u001b[32m174.2/174.2 kB\u001b[0m \u001b[31m19.5 MB/s\u001b[0m eta \u001b[36m0:00:00\u001b[0m\n",
            "\u001b[2K     \u001b[90m━━━━━━━━━━━━━━━━━━━━━━━━━━━━━━━━━━━━━━━━\u001b[0m \u001b[32m174.2/174.2 kB\u001b[0m \u001b[31m18.3 MB/s\u001b[0m eta \u001b[36m0:00:00\u001b[0m\n",
            "\u001b[2K     \u001b[90m━━━━━━━━━━━━━━━━━━━━━━━━━━━━━━━━━━━━━━━━\u001b[0m \u001b[32m174.1/174.1 kB\u001b[0m \u001b[31m21.1 MB/s\u001b[0m eta \u001b[36m0:00:00\u001b[0m\n",
            "\u001b[2K     \u001b[90m━━━━━━━━━━━━━━━━━━━━━━━━━━━━━━━━━━━━━━━━\u001b[0m \u001b[32m174.0/174.0 kB\u001b[0m \u001b[31m19.9 MB/s\u001b[0m eta \u001b[36m0:00:00\u001b[0m\n",
            "\u001b[2K     \u001b[90m━━━━━━━━━━━━━━━━━━━━━━━━━━━━━━━━━━━━━━━━\u001b[0m \u001b[32m174.0/174.0 kB\u001b[0m \u001b[31m19.9 MB/s\u001b[0m eta \u001b[36m0:00:00\u001b[0m\n",
            "\u001b[2K     \u001b[90m━━━━━━━━━━━━━━━━━━━━━━━━━━━━━━━━━━━━━━━━\u001b[0m \u001b[32m174.0/174.0 kB\u001b[0m \u001b[31m21.7 MB/s\u001b[0m eta \u001b[36m0:00:00\u001b[0m\n",
            "\u001b[2K     \u001b[90m━━━━━━━━━━━━━━━━━━━━━━━━━━━━━━━━━━━━━━━━\u001b[0m \u001b[32m174.0/174.0 kB\u001b[0m \u001b[31m20.6 MB/s\u001b[0m eta \u001b[36m0:00:00\u001b[0m\n",
            "\u001b[2K     \u001b[90m━━━━━━━━━━━━━━━━━━━━━━━━━━━━━━━━━━━━━━━━\u001b[0m \u001b[32m174.0/174.0 kB\u001b[0m \u001b[31m19.3 MB/s\u001b[0m eta \u001b[36m0:00:00\u001b[0m\n",
            "\u001b[2K     \u001b[90m━━━━━━━━━━━━━━━━━━━━━━━━━━━━━━━━━━━━━━━━\u001b[0m \u001b[32m174.0/174.0 kB\u001b[0m \u001b[31m18.9 MB/s\u001b[0m eta \u001b[36m0:00:00\u001b[0m\n",
            "\u001b[2K     \u001b[90m━━━━━━━━━━━━━━━━━━━━━━━━━━━━━━━━━━━━━━━━\u001b[0m \u001b[32m174.0/174.0 kB\u001b[0m \u001b[31m20.4 MB/s\u001b[0m eta \u001b[36m0:00:00\u001b[0m\n",
            "\u001b[2K     \u001b[90m━━━━━━━━━━━━━━━━━━━━━━━━━━━━━━━━━━━━━━━━\u001b[0m \u001b[32m174.0/174.0 kB\u001b[0m \u001b[31m21.1 MB/s\u001b[0m eta \u001b[36m0:00:00\u001b[0m\n",
            "\u001b[2K     \u001b[90m━━━━━━━━━━━━━━━━━━━━━━━━━━━━━━━━━━━━━━━━\u001b[0m \u001b[32m174.0/174.0 kB\u001b[0m \u001b[31m20.9 MB/s\u001b[0m eta \u001b[36m0:00:00\u001b[0m\n",
            "\u001b[2K     \u001b[90m━━━━━━━━━━━━━━━━━━━━━━━━━━━━━━━━━━━━━━━━\u001b[0m \u001b[32m174.0/174.0 kB\u001b[0m \u001b[31m22.5 MB/s\u001b[0m eta \u001b[36m0:00:00\u001b[0m\n",
            "\u001b[2K     \u001b[90m━━━━━━━━━━━━━━━━━━━━━━━━━━━━━━━━━━━━━━━━\u001b[0m \u001b[32m174.0/174.0 kB\u001b[0m \u001b[31m19.8 MB/s\u001b[0m eta \u001b[36m0:00:00\u001b[0m\n",
            "\u001b[2K     \u001b[90m━━━━━━━━━━━━━━━━━━━━━━━━━━━━━━━━━━━━━━━━\u001b[0m \u001b[32m381.9/381.9 kB\u001b[0m \u001b[31m33.1 MB/s\u001b[0m eta \u001b[36m0:00:00\u001b[0m\n",
            "\u001b[2K     \u001b[90m━━━━━━━━━━━━━━━━━━━━━━━━━━━━━━━━━━━━━━━━\u001b[0m \u001b[32m2.1/2.1 MB\u001b[0m \u001b[31m83.2 MB/s\u001b[0m eta \u001b[36m0:00:00\u001b[0m\n",
            "\u001b[2K     \u001b[90m━━━━━━━━━━━━━━━━━━━━━━━━━━━━━━━━━━━━━━━━\u001b[0m \u001b[32m113.7/113.7 kB\u001b[0m \u001b[31m13.2 MB/s\u001b[0m eta \u001b[36m0:00:00\u001b[0m\n",
            "\u001b[2K     \u001b[90m━━━━━━━━━━━━━━━━━━━━━━━━━━━━━━━━━━━━━━━━\u001b[0m \u001b[32m677.1/677.1 kB\u001b[0m \u001b[31m50.5 MB/s\u001b[0m eta \u001b[36m0:00:00\u001b[0m\n",
            "\u001b[2K     \u001b[90m━━━━━━━━━━━━━━━━━━━━━━━━━━━━━━━━━━━━━━━━\u001b[0m \u001b[32m60.0/60.0 kB\u001b[0m \u001b[31m5.4 MB/s\u001b[0m eta \u001b[36m0:00:00\u001b[0m\n",
            "\u001b[2K     \u001b[90m━━━━━━━━━━━━━━━━━━━━━━━━━━━━━━━━━━━━━━━━\u001b[0m \u001b[32m110.1/110.1 kB\u001b[0m \u001b[31m13.1 MB/s\u001b[0m eta \u001b[36m0:00:00\u001b[0m\n",
            "\u001b[2K     \u001b[90m━━━━━━━━━━━━━━━━━━━━━━━━━━━━━━━━━━━━━━━━\u001b[0m \u001b[32m92.9/92.9 kB\u001b[0m \u001b[31m10.5 MB/s\u001b[0m eta \u001b[36m0:00:00\u001b[0m\n",
            "\u001b[2K     \u001b[90m━━━━━━━━━━━━━━━━━━━━━━━━━━━━━━━━━━━━━━━━\u001b[0m \u001b[32m1.1/1.1 MB\u001b[0m \u001b[31m67.8 MB/s\u001b[0m eta \u001b[36m0:00:00\u001b[0m\n",
            "\u001b[2K     \u001b[90m━━━━━━━━━━━━━━━━━━━━━━━━━━━━━━━━━━━━━━━━\u001b[0m \u001b[32m300.4/300.4 kB\u001b[0m \u001b[31m29.6 MB/s\u001b[0m eta \u001b[36m0:00:00\u001b[0m\n",
            "\u001b[2K     \u001b[90m━━━━━━━━━━━━━━━━━━━━━━━━━━━━━━━━━━━━━━━━\u001b[0m \u001b[32m139.3/139.3 kB\u001b[0m \u001b[31m16.4 MB/s\u001b[0m eta \u001b[36m0:00:00\u001b[0m\n",
            "\u001b[2K     \u001b[90m━━━━━━━━━━━━━━━━━━━━━━━━━━━━━━━━━━━━━━━━\u001b[0m \u001b[32m59.7/59.7 kB\u001b[0m \u001b[31m7.0 MB/s\u001b[0m eta \u001b[36m0:00:00\u001b[0m\n",
            "\u001b[2K     \u001b[90m━━━━━━━━━━━━━━━━━━━━━━━━━━━━━━━━━━━━━━━━\u001b[0m \u001b[32m11.8/11.8 MB\u001b[0m \u001b[31m89.5 MB/s\u001b[0m eta \u001b[36m0:00:00\u001b[0m\n",
            "\u001b[2K     \u001b[90m━━━━━━━━━━━━━━━━━━━━━━━━━━━━━━━━━━━━━━━━\u001b[0m \u001b[32m82.0/82.0 kB\u001b[0m \u001b[31m9.7 MB/s\u001b[0m eta \u001b[36m0:00:00\u001b[0m\n",
            "\u001b[2K     \u001b[90m━━━━━━━━━━━━━━━━━━━━━━━━━━━━━━━━━━━━━━━━\u001b[0m \u001b[32m67.0/67.0 kB\u001b[0m \u001b[31m8.4 MB/s\u001b[0m eta \u001b[36m0:00:00\u001b[0m\n",
            "\u001b[?25h  Preparing metadata (setup.py) ... \u001b[?25l\u001b[?25hdone\n",
            "\u001b[2K     \u001b[90m━━━━━━━━━━━━━━━━━━━━━━━━━━━━━━━━━━━━━━━━\u001b[0m \u001b[32m224.8/224.8 kB\u001b[0m \u001b[31m26.4 MB/s\u001b[0m eta \u001b[36m0:00:00\u001b[0m\n",
            "\u001b[2K     \u001b[90m━━━━━━━━━━━━━━━━━━━━━━━━━━━━━━━━━━━━━━━━\u001b[0m \u001b[32m58.3/58.3 kB\u001b[0m \u001b[31m7.4 MB/s\u001b[0m eta \u001b[36m0:00:00\u001b[0m\n",
            "\u001b[2K     \u001b[90m━━━━━━━━━━━━━━━━━━━━━━━━━━━━━━━━━━━━━━━━\u001b[0m \u001b[32m699.4/699.4 kB\u001b[0m \u001b[31m51.7 MB/s\u001b[0m eta \u001b[36m0:00:00\u001b[0m\n",
            "\u001b[2K     \u001b[90m━━━━━━━━━━━━━━━━━━━━━━━━━━━━━━━━━━━━━━━━\u001b[0m \u001b[32m856.7/856.7 kB\u001b[0m \u001b[31m56.7 MB/s\u001b[0m eta \u001b[36m0:00:00\u001b[0m\n",
            "\u001b[?25h  Building wheel for sentinels (setup.py) ... \u001b[?25l\u001b[?25hdone\n",
            "\u001b[31mERROR: pip's dependency resolver does not currently take into account all the packages that are installed. This behaviour is the source of the following dependency conflicts.\n",
            "lida 0.0.10 requires kaleido, which is not installed.\n",
            "lida 0.0.10 requires python-multipart, which is not installed.\n",
            "llmx 0.0.15a0 requires cohere, which is not installed.\n",
            "llmx 0.0.15a0 requires openai, which is not installed.\n",
            "llmx 0.0.15a0 requires tiktoken, which is not installed.\n",
            "notebook 6.5.5 requires pyzmq<25,>=17, but you have pyzmq 25.1.2 which is incompatible.\n",
            "tensorflow-probability 0.22.0 requires typing-extensions<4.6.0, but you have typing-extensions 4.8.0 which is incompatible.\u001b[0m\u001b[31m\n",
            "\u001b[0mCollecting submitit\n",
            "  Downloading submitit-1.5.1-py3-none-any.whl (74 kB)\n",
            "\u001b[2K     \u001b[90m━━━━━━━━━━━━━━━━━━━━━━━━━━━━━━━━━━━━━━━━\u001b[0m \u001b[32m74.7/74.7 kB\u001b[0m \u001b[31m1.8 MB/s\u001b[0m eta \u001b[36m0:00:00\u001b[0m\n",
            "\u001b[?25hRequirement already satisfied: cloudpickle>=1.2.1 in /usr/local/lib/python3.10/dist-packages (from submitit) (2.2.1)\n",
            "Requirement already satisfied: typing_extensions>=3.7.4.2 in /usr/local/lib/python3.10/dist-packages (from submitit) (4.8.0)\n",
            "Installing collected packages: submitit\n",
            "Successfully installed submitit-1.5.1\n"
          ]
        }
      ],
      "source": [
        "import os\n",
        "import torch\n",
        "os.environ['TORCH'] = torch.__version__\n",
        "print(torch.__version__)\n",
        "\n",
        "!pip install -q torch-scatter -f https://data.pyg.org/whl/torch-${TORCH}.html\n",
        "!pip install -q torch-sparse -f https://data.pyg.org/whl/torch-${TORCH}.html\n",
        "!pip install -q torch-cluster -f https://data.pyg.org/whl/torch-${TORCH}.html\n",
        "!pip install -q git+https://github.com/pyg-team/pytorch_geometric.git\n",
        "\n",
        "if not os.path.exists('ocp'):\n",
        "     !git clone https://github.com/Open-Catalyst-Project/ocp.git\n",
        "os.chdir('ocp')\n",
        "!pip install -e .\n",
        "!pip -q install  lmdb pymatgen==2023.5.10 ase==3.22.1 orjson e3nn==0.2.6 wandb\n",
        "!pip install submitit"
      ]
    },
    {
      "cell_type": "code",
      "execution_count": 3,
      "metadata": {
        "id": "WFhrw-pWeGWp",
        "colab": {
          "base_uri": "https://localhost:8080/"
        },
        "outputId": "985b2fc5-c5ac-46cb-f836-68e4e0c45f0e"
      },
      "outputs": [
        {
          "output_type": "stream",
          "name": "stderr",
          "text": [
            "/usr/local/lib/python3.10/dist-packages/huggingface_hub/utils/_runtime.py:184: UserWarning: Pydantic is installed but cannot be imported. Please check your installation. `huggingface_hub` will default to not using Pydantic. Error message: '{e}'\n",
            "  warnings.warn(\n"
          ]
        },
        {
          "output_type": "execute_result",
          "data": {
            "text/plain": [
              "False"
            ]
          },
          "metadata": {},
          "execution_count": 3
        }
      ],
      "source": [
        "import json,zipfile\n",
        "import numpy as np\n",
        "import pandas as pd\n",
        "from tqdm import tqdm\n",
        "\n",
        "from ase.io import read\n",
        "\n",
        "from torch.nn.parallel import DistributedDataParallel as DDP\n",
        "import torch.distributed as dist\n",
        "\n",
        "from ocpmodels.datasets import SinglePointLmdbDataset\n",
        "from ocpmodels.preprocessing import AtomsToGraphs\n",
        "from ocpmodels.models import CGCNN,SchNet\n",
        "from ocpmodels.datasets import data_list_collater\n",
        "from ocpmodels.common.relaxation.ase_utils import OCPCalculator\n",
        "torch.cuda.is_available()"
      ]
    },
    {
      "cell_type": "code",
      "source": [
        "!sudo apt-get install povray  ## visulization program"
      ],
      "metadata": {
        "colab": {
          "base_uri": "https://localhost:8080/"
        },
        "id": "gSSdY8iGSvBk",
        "outputId": "be2ab880-3438-4d52-f42a-ca4a3e7ad11e"
      },
      "execution_count": 4,
      "outputs": [
        {
          "output_type": "stream",
          "name": "stdout",
          "text": [
            "Reading package lists... Done\n",
            "Building dependency tree... Done\n",
            "Reading state information... Done\n",
            "The following additional packages will be installed:\n",
            "  fonts-povray libsdl1.2debian povray-includes\n",
            "Suggested packages:\n",
            "  povray-doc povray-examples\n",
            "The following NEW packages will be installed:\n",
            "  fonts-povray libsdl1.2debian povray povray-includes\n",
            "0 upgraded, 4 newly installed, 0 to remove and 15 not upgraded.\n",
            "Need to get 1,792 kB of archives.\n",
            "After this operation, 5,199 kB of additional disk space will be used.\n",
            "Get:1 http://archive.ubuntu.com/ubuntu jammy/universe amd64 fonts-povray all 1:3.7.0.10-1 [70.0 kB]\n",
            "Get:2 http://archive.ubuntu.com/ubuntu jammy/universe amd64 libsdl1.2debian amd64 1.2.15+dfsg2-6 [177 kB]\n",
            "Get:3 http://archive.ubuntu.com/ubuntu jammy/universe amd64 povray amd64 1:3.7.0.10-1 [1,312 kB]\n",
            "Get:4 http://archive.ubuntu.com/ubuntu jammy/universe amd64 povray-includes all 1:3.7.0.10-1 [233 kB]\n",
            "Fetched 1,792 kB in 1s (2,165 kB/s)\n",
            "debconf: unable to initialize frontend: Dialog\n",
            "debconf: (No usable dialog-like program is installed, so the dialog based frontend cannot be used. at /usr/share/perl5/Debconf/FrontEnd/Dialog.pm line 78, <> line 4.)\n",
            "debconf: falling back to frontend: Readline\n",
            "debconf: unable to initialize frontend: Readline\n",
            "debconf: (This frontend requires a controlling tty.)\n",
            "debconf: falling back to frontend: Teletype\n",
            "dpkg-preconfigure: unable to re-open stdin: \n",
            "Selecting previously unselected package fonts-povray.\n",
            "(Reading database ... 120882 files and directories currently installed.)\n",
            "Preparing to unpack .../fonts-povray_1%3a3.7.0.10-1_all.deb ...\n",
            "Unpacking fonts-povray (1:3.7.0.10-1) ...\n",
            "Selecting previously unselected package libsdl1.2debian:amd64.\n",
            "Preparing to unpack .../libsdl1.2debian_1.2.15+dfsg2-6_amd64.deb ...\n",
            "Unpacking libsdl1.2debian:amd64 (1.2.15+dfsg2-6) ...\n",
            "Selecting previously unselected package povray.\n",
            "Preparing to unpack .../povray_1%3a3.7.0.10-1_amd64.deb ...\n",
            "Unpacking povray (1:3.7.0.10-1) ...\n",
            "Selecting previously unselected package povray-includes.\n",
            "Preparing to unpack .../povray-includes_1%3a3.7.0.10-1_all.deb ...\n",
            "Unpacking povray-includes (1:3.7.0.10-1) ...\n",
            "Setting up libsdl1.2debian:amd64 (1.2.15+dfsg2-6) ...\n",
            "Setting up fonts-povray (1:3.7.0.10-1) ...\n",
            "Setting up povray (1:3.7.0.10-1) ...\n",
            "Setting up povray-includes (1:3.7.0.10-1) ...\n",
            "Processing triggers for libc-bin (2.35-0ubuntu3.4) ...\n",
            "/sbin/ldconfig.real: /usr/local/lib/libtbbmalloc.so.2 is not a symbolic link\n",
            "\n",
            "/sbin/ldconfig.real: /usr/local/lib/libtbbbind_2_5.so.3 is not a symbolic link\n",
            "\n",
            "/sbin/ldconfig.real: /usr/local/lib/libtbb.so.12 is not a symbolic link\n",
            "\n",
            "/sbin/ldconfig.real: /usr/local/lib/libtbbmalloc_proxy.so.2 is not a symbolic link\n",
            "\n",
            "/sbin/ldconfig.real: /usr/local/lib/libtbbbind.so.3 is not a symbolic link\n",
            "\n",
            "/sbin/ldconfig.real: /usr/local/lib/libtbbbind_2_0.so.3 is not a symbolic link\n",
            "\n",
            "Processing triggers for man-db (2.10.2-1) ...\n",
            "Processing triggers for fontconfig (2.13.1-4.2ubuntu5) ...\n"
          ]
        }
      ]
    },
    {
      "cell_type": "code",
      "source": [
        "from ase import Atoms\n",
        "from ase.io import Trajectory, write\n",
        "from ase.build import bulk, surface, molecule, add_adsorbate, fcc111\n",
        "from ase.constraints import ExpCellFilter, StrainFilter, FixAtoms, FixedPlane, FixBondLength\n",
        "from ase.optimize import LBFGS, BFGS, FIRE\n",
        "from ase.neb import NEB\n",
        "from ase.vibrations import Vibrations\n",
        "from ase.thermochemistry import IdealGasThermo\n",
        "from ase.visualize import view\n",
        "from ase.build.rotate import minimize_rotation_and_translation\n",
        "from ase.md import MDLogger\n",
        "from ase.io.vasp import read_vasp\n",
        "\n",
        "import pandas as pd\n",
        "import ipywidgets as widgets\n",
        "from IPython.display import display_png, Image as ImageWidget\n",
        "import matplotlib.pyplot as plt\n",
        "import matplotlib.image as mpimg\n",
        "\n",
        "import os\n",
        "import shutil\n",
        "\n",
        "import glob\n",
        "from pathlib import Path\n",
        "from PIL import Image, ImageDraw\n",
        "\n",
        "from pymatgen.core import Lattice, Structure, Molecule\n",
        "from pymatgen.io.vasp import Poscar\n",
        "from pymatgen.core.surface import SlabGenerator\n",
        "from pymatgen.io.ase import AseAtomsAdaptor\n",
        "\n",
        "import numpy as np\n",
        "from scipy.spatial.distance import cdist\n",
        "def visual(structure, index, max_size=(100, 100), stretch_y=1.0):\n",
        "    renderer = write('./temp.pov', structure, rotation='15z,-90x')\n",
        "    renderer.render()\n",
        "    image_path = './temp.png'\n",
        "    img = Image.open(image_path)\n",
        "\n",
        "    # Calculate new size with stretch factor\n",
        "    new_size = (max_size[0], int(max_size[1] * stretch_y))\n",
        "    img = img.resize(new_size, Image.LANCZOS)\n",
        "    display(img)\n",
        "    # Move files to output directory\n",
        "    files = ['./temp.ini', './temp.pov', './temp.png']\n",
        "    destination = './output/'\n",
        "\n",
        "    # Ensure destination directory exists\n",
        "    os.makedirs(destination, exist_ok=True)\n",
        "\n",
        "    for file in files:\n",
        "        # Remove the file in the destination directory if it exists\n",
        "        if os.path.isfile(os.path.join(destination, os.path.basename(file))):\n",
        "            os.remove(os.path.join(destination, os.path.basename(file)))\n",
        "\n",
        "        shutil.move(file, destination)\n"
      ],
      "metadata": {
        "id": "EWt6R52XSr5z"
      },
      "execution_count": 5,
      "outputs": []
    },
    {
      "cell_type": "markdown",
      "metadata": {
        "id": "zED6-scoGBU5"
      },
      "source": [
        "## load some useful utillities\n",
        " code taken from https://open-catalyst-project.github.io/tutorial/fine-tuning/fine-tuning-oxides.html"
      ]
    },
    {
      "cell_type": "code",
      "execution_count": 6,
      "metadata": {
        "id": "-eTDmQ49h7oK"
      },
      "outputs": [],
      "source": [
        "import ocpmodels as om\n",
        "from pathlib import Path\n",
        "import urllib\n",
        "import os\n",
        "from pathlib import Path\n",
        "import requests\n",
        "import subprocess\n",
        "import sys\n",
        "import numba\n",
        "import numpy as np\n",
        "import ase\n",
        "import e3nn\n",
        "import pymatgen.core as pc\n",
        "import torch\n",
        "import torch.cuda as tc\n",
        "import torch_geometric as tg\n",
        "import platform\n",
        "import psutil\n",
        "\n",
        "def ocp_root():\n",
        "    \"\"\"Return the root directory of the installed ocp package.\"\"\"\n",
        "    return Path(om.__file__).parent.parent\n",
        "\n",
        "def ocp_main():\n",
        "    \"\"\"Return the path to ocp main.py\"\"\"\n",
        "    return ocp_root() / \"main.py\"\n",
        "def describe_ocp():\n",
        "    \"\"\"Print some system information that could be useful in debugging.\"\"\"\n",
        "    print(sys.executable, sys.version)\n",
        "    print(f'ocp is installed at {ocp_root()}')\n",
        "\n",
        "    commit_hash = (\n",
        "            subprocess.check_output(\n",
        "                    [\n",
        "                        \"git\",\n",
        "                        \"-C\",\n",
        "                        om.__path__[0],\n",
        "                        \"describe\",\n",
        "                        \"--always\",\n",
        "                    ]\n",
        "                )\n",
        "                .strip()\n",
        "                .decode(\"ascii\")\n",
        "            )\n",
        "    print(f'ocp repo is at git commit: {commit_hash}')\n",
        "    print(f'numba: {numba.__version__}')\n",
        "    print(f'numpy: {np.version.version}')\n",
        "    print(f'ase: {ase.__version__}')\n",
        "    print(f'e3nn: {e3nn.__version__}')\n",
        "    print(f'pymatgen: {pc.__version__}')\n",
        "    print(f'torch: {torch.version.__version__}')\n",
        "    print(f'torch.version.cuda: {torch.version.cuda}')\n",
        "    print(f'torch.cuda: is_available: {tc.is_available()}')\n",
        "    if tc.is_available():\n",
        "        print('  __CUDNN VERSION:', torch.backends.cudnn.version())\n",
        "        print('  __Number CUDA Devices:', torch.cuda.device_count())\n",
        "        print('  __CUDA Device Name:',torch.cuda.get_device_name(0))\n",
        "        print('  __CUDA Device Total Memory [GB]:',torch.cuda.get_device_properties(0).total_memory/1e9)\n",
        "    print(f'torch geometric: {tg.__version__}')\n",
        "    print()\n",
        "    print(f'Platform: {platform.platform()}')\n",
        "    print(f'  Processor: {platform.processor()}')\n",
        "    print(f'  Virtual memory: {psutil.virtual_memory()}')\n",
        "    print(f'  Swap memory: {psutil.swap_memory()}')\n",
        "    print(f'  Disk usage: {psutil.disk_usage(\"/\")}')\n",
        "\n",
        "\n",
        "checkpoints = {\n",
        "    # Open Catalyst 2020 (OC20)\n",
        "    'CGCNN 200k'\t:'https://dl.fbaipublicfiles.com/opencatalystproject/models/2020_11/s2ef/cgcnn_200k.pt',\n",
        "    'CGCNN 2M'\t    :'https://dl.fbaipublicfiles.com/opencatalystproject/models/2020_11/s2ef/cgcnn_2M.pt',\n",
        "    'CGCNN 20M'\t:'https://dl.fbaipublicfiles.com/opencatalystproject/models/2020_11/s2ef/cgcnn_20M.pt',\n",
        "    'CGCNN All'\t:'https://dl.fbaipublicfiles.com/opencatalystproject/models/2020_11/s2ef/cgcnn_all.pt',\n",
        "    'DimeNet 200k'\t:'https://dl.fbaipublicfiles.com/opencatalystproject/models/2020_11/s2ef/dimenet_200k.pt',\n",
        "    'DimeNet 2M'\t:'https://dl.fbaipublicfiles.com/opencatalystproject/models/2020_11/s2ef/dimenet_2M.pt',\n",
        "    'SchNet 200k'\t:'https://dl.fbaipublicfiles.com/opencatalystproject/models/2020_11/s2ef/schnet_200k.pt',\n",
        "    'SchNet 2M'\t    :'https://dl.fbaipublicfiles.com/opencatalystproject/models/2020_11/s2ef/schnet_2M.pt',\n",
        "    'SchNet 20M'\t:'https://dl.fbaipublicfiles.com/opencatalystproject/models/2020_11/s2ef/schnet_20M.pt',\n",
        "    'SchNet All'\t:'https://dl.fbaipublicfiles.com/opencatalystproject/models/2020_11/s2ef/schnet_all_large.pt',\n",
        "    'DimeNet++ 200k'   :'https://dl.fbaipublicfiles.com/opencatalystproject/models/2021_02/s2ef/dimenetpp_200k.pt',\n",
        "    'DimeNet++ 2M'     :'https://dl.fbaipublicfiles.com/opencatalystproject/models/2021_02/s2ef/dimenetpp_2M.pt',\n",
        "    'DimeNet++ 20M'    :'https://dl.fbaipublicfiles.com/opencatalystproject/models/2021_02/s2ef/dimenetpp_20M.pt',\n",
        "    'DimeNet++ All'    :'https://dl.fbaipublicfiles.com/opencatalystproject/models/2021_02/s2ef/dimenetpp_all.pt',\n",
        "    'SpinConv 2M'    :'https://dl.fbaipublicfiles.com/opencatalystproject/models/2021_12/s2ef/spinconv_force_centric_2M.pt',\n",
        "    'SpinConv All'    :'https://dl.fbaipublicfiles.com/opencatalystproject/models/2021_08/s2ef/spinconv_force_centric_all.pt',\n",
        "    'GemNet-dT 2M'    :'https://dl.fbaipublicfiles.com/opencatalystproject/models/2021_12/s2ef/gemnet_t_direct_h512_2M.pt',\n",
        "    'GemNet-dT All'    :'https://dl.fbaipublicfiles.com/opencatalystproject/models/2021_08/s2ef/gemnet_t_direct_h512_all.pt',\n",
        "    'PaiNN All'    :'https://dl.fbaipublicfiles.com/opencatalystproject/models/2022_05/s2ef/painn_h512_s2ef_all.pt',\n",
        "    'GemNet-OC 2M'     :'https://dl.fbaipublicfiles.com/opencatalystproject/models/2022_07/s2ef/gemnet_oc_base_s2ef_2M.pt',\n",
        "    'GemNet-OC All'    :'https://dl.fbaipublicfiles.com/opencatalystproject/models/2022_07/s2ef/gemnet_oc_base_s2ef_all.pt',\n",
        "    'GemNet-OC All+MD'    :'https://dl.fbaipublicfiles.com/opencatalystproject/models/2023_03/s2ef/gemnet_oc_base_s2ef_all_md.pt',\n",
        "    'GemNet-OC-Large All+MD' :'https://dl.fbaipublicfiles.com/opencatalystproject/models/2022_07/s2ef/gemnet_oc_large_s2ef_all_md.pt',\n",
        "    'SCN 2M'   :'https://dl.fbaipublicfiles.com/opencatalystproject/models/2023_03/s2ef/scn_t1_b1_s2ef_2M.pt',\n",
        "    'SCN-t4-b2 2M'    :'https://dl.fbaipublicfiles.com/opencatalystproject/models/2023_03/s2ef/scn_t4_b2_s2ef_2M.pt',\n",
        "    'SCN All+MD' :'https://dl.fbaipublicfiles.com/opencatalystproject/models/2023_03/s2ef/scn_all_md_s2ef.pt',\n",
        "    'eSCN-L4-M2-Lay12 2M'     :'https://dl.fbaipublicfiles.com/opencatalystproject/models/2023_03/s2ef/escn_l4_m2_lay12_2M_s2ef.pt',\n",
        "    'eSCN-L6-M2-Lay12 2M'    :'https://dl.fbaipublicfiles.com/opencatalystproject/models/2023_03/s2ef/escn_l6_m2_lay12_2M_s2ef.pt',\n",
        "    'eSCN-L6-M2-Lay12 All+MD'     :'https://dl.fbaipublicfiles.com/opencatalystproject/models/2023_03/s2ef/escn_l6_m2_lay12_all_md_s2ef.pt',\n",
        "    'eSCN-L6-M3-Lay20 All+MD'     :'https://dl.fbaipublicfiles.com/opencatalystproject/models/2023_03/s2ef/escn_l6_m3_lay20_all_md_s2ef.pt',\n",
        "    'EquiformerV2 (83M) 2M'     :'https://dl.fbaipublicfiles.com/opencatalystproject/models/2023_06/oc20/s2ef/eq2_83M_2M.pt',\n",
        "    'EquiformerV2 (31M) All+MD'     :'https://dl.fbaipublicfiles.com/opencatalystproject/models/2023_06/oc20/s2ef/eq2_31M_ec4_allmd.pt',\n",
        "    'EquiformerV2 (153M) All+MD'     :'https://dl.fbaipublicfiles.com/opencatalystproject/models/2023_06/oc20/s2ef/eq2_153M_ec4_allmd.pt',\n",
        "    # Open Catalyst 2022 (OC22)\n",
        "    'GemNet-dT OC22'\t: 'https://dl.fbaipublicfiles.com/opencatalystproject/models/2022_09/oc22/s2ef/gndt_oc22_all_s2ef.pt',\n",
        "    'GemNet-OC OC22'\t: 'https://dl.fbaipublicfiles.com/opencatalystproject/models/2022_09/oc22/s2ef/gnoc_oc22_all_s2ef.pt',\n",
        "    'GemNet-OC OC20+OC22'\t: 'https://dl.fbaipublicfiles.com/opencatalystproject/models/2022_09/oc22/s2ef/gnoc_oc22_oc20_all_s2ef.pt',\n",
        "    'GemNet-OC trained with `enforce_max_neighbors_strictly=False` #467 OC20+OC22' : 'https://dl.fbaipublicfiles.com/opencatalystproject/models/2023_05/oc22/s2ef/gnoc_oc22_oc20_all_s2ef.pt',\n",
        "    'GemNet-OC OC20->OC22'\t: 'https://dl.fbaipublicfiles.com/opencatalystproject/models/2022_09/oc22/s2ef/gnoc_finetune_all_s2ef.pt',\n",
        "    'equiformer' : 'https://dl.fbaipublicfiles.com/opencatalystproject/models/2023_10/oc22/s2ef/eq2_121M_e4_f100_oc22_s2ef.pt'\n",
        "                }\n",
        "\n",
        "def list_checkpoints():\n",
        "    \"\"\"List checkpoints that are available to download.\"\"\"\n",
        "    print('See https://github.com/Open-Catalyst-Project/ocp/blob/main/MODELS.md for more details.')\n",
        "    for key in checkpoints:\n",
        "        print(key)\n",
        "    print('Copy one of these keys to get_checkpoint(key) to download it.')\n",
        "\n",
        "\n",
        "def get_checkpoint(key):\n",
        "    \"\"\"Download a checkpoint.\n",
        "\n",
        "    key: string in checkpoints.\n",
        "\n",
        "    Returns name of checkpoint that was saved.\n",
        "    \"\"\"\n",
        "    url = checkpoints.get(key, None)\n",
        "    if url is None:\n",
        "        raise Exception('No url found for {key}')\n",
        "\n",
        "    pt = Path(urllib.parse.urlparse(url).path).name\n",
        "\n",
        "    if not os.path.exists(pt):\n",
        "        with open(pt, 'wb') as f:\n",
        "            print(f'Downloading {url}')\n",
        "            f.write(requests.get(url).content)\n",
        "    return pt"
      ]
    },
    {
      "cell_type": "code",
      "execution_count": 7,
      "metadata": {
        "id": "pCQ9VQywxacJ"
      },
      "outputs": [],
      "source": [
        "# @title\n",
        "from pathlib import Path\n",
        "import numpy as np\n",
        "from ase.db import connect\n",
        "\n",
        "def train_test_val_split(ase_db, ttv=(0.8, 0.1, .1), files=('train.db', 'test.db', 'val.db'), seed=42):\n",
        "    \"\"\"Split an ase db into train, test and validation dbs.\n",
        "\n",
        "    ase_db: path to an ase db containing all the data.\n",
        "    ttv: a tuple containing the fraction of train, test and val data. This will be normalized.\n",
        "    files: a tuple of filenames to write the splits into. An exception is raised if these exist.\n",
        "           You should delete them first.\n",
        "    seed: an integer for the random number generator seed\n",
        "\n",
        "    Returns the absolute path to files.\n",
        "    \"\"\"\n",
        "\n",
        "    for db in files:\n",
        "        if os.path.exists(db):\n",
        "            raise Exception('{db} exists. Please delete it before proceeding.')\n",
        "\n",
        "    src = connect(ase_db)\n",
        "    N = src.count()\n",
        "\n",
        "    ttv = np.array(ttv)\n",
        "    ttv /= ttv.sum()\n",
        "\n",
        "    train_end = int(N * ttv[0])\n",
        "    test_end = train_end + int(N * ttv[1])\n",
        "\n",
        "    train = connect(files[0])\n",
        "    test = connect(files[1])\n",
        "    val = connect(files[2])\n",
        "\n",
        "    ids = np.arange(1, N + 1)\n",
        "    rng = np.random.default_rng(seed=42)\n",
        "    rng.shuffle(ids)\n",
        "\n",
        "    for _id in ids[0:train_end]:\n",
        "        row = src.get(id=int(_id))\n",
        "        train.write(row.toatoms())\n",
        "\n",
        "    for _id in ids[train_end:test_end]:\n",
        "        row = src.get(id=int(_id))\n",
        "        test.write(row.toatoms())\n",
        "\n",
        "    for _id in ids[test_end:]:\n",
        "        row = src.get(id=int(_id))\n",
        "        val.write(row.toatoms())\n",
        "\n",
        "    return [Path(f).absolute() for f in files]\n",
        "\n",
        "# @title\n",
        "from yaml import load, dump\n",
        "from yaml import CLoader as Loader, CDumper as Dumper\n",
        "import torch\n",
        "import os\n",
        "from ocpmodels.common.relaxation.ase_utils import OCPCalculator\n",
        "from io import StringIO\n",
        "import sys\n",
        "import contextlib\n",
        "\n",
        "def generate_yml_config(checkpoint_path, yml='run.yml', delete=(), update=()):\n",
        "    \"\"\"Generate a yml config file from an existing checkpoint file.\n",
        "\n",
        "    checkpoint_path: string to path of an existing checkpoint\n",
        "    yml: name of file to write to.\n",
        "    pop: list of keys to remove from the config\n",
        "    update: dictionary of key:values to update\n",
        "\n",
        "    Use a dot notation in update.\n",
        "\n",
        "    Returns an absolute path to the generated yml file.\n",
        "    \"\"\"\n",
        "\n",
        "    # You can't just read in the checkpoint with torch. The calculator does some things to it.\n",
        "    # Rather than recreate that here I just reuse the calculator machinery. I don't want to\n",
        "    # see the output though, so I capture it.\n",
        "\n",
        "    with contextlib.redirect_stdout(StringIO()) as _:\n",
        "        config = OCPCalculator(checkpoint_path=checkpoint_path).config # there seems an parameter checkpoint changed in OCPcalculator (s.choung)\n",
        "\n",
        "    for key in delete:\n",
        "        if key in config and len(key.split('.')) == 1:\n",
        "            del config[key]\n",
        "        else:\n",
        "            keys = key.split('.')\n",
        "            if keys[0] in config:\n",
        "                d = config[keys[0]]\n",
        "            else:\n",
        "                continue\n",
        "            if isinstance(d, dict):\n",
        "                for k in keys[1:]:\n",
        "                    if isinstance(d[k], dict):\n",
        "                        d = d[k]\n",
        "                    else:\n",
        "                        if k in d:\n",
        "                            del d[k]\n",
        "\n",
        "    def nested_set(dic, keys, value):\n",
        "        for key in keys[:-1]:\n",
        "            dic = dic.setdefault(key, {})\n",
        "        dic[keys[-1]] = value\n",
        "\n",
        "    for _key in update:\n",
        "        keys = _key.split('.')\n",
        "        nested_set(config, keys, update[_key])\n",
        "\n",
        "\n",
        "    out = dump(config)\n",
        "    with open(yml, 'wb') as f:\n",
        "        f.write(out.encode('utf-8'))\n",
        "\n",
        "    return Path(yml).absolute()"
      ]
    },
    {
      "cell_type": "markdown",
      "source": [
        "# OCDATA module installation"
      ],
      "metadata": {
        "id": "yt0L-_YZ2p3z"
      }
    },
    {
      "cell_type": "code",
      "execution_count": 8,
      "metadata": {
        "colab": {
          "base_uri": "https://localhost:8080/"
        },
        "id": "oQa3wmCE0WY_",
        "outputId": "63d547ed-b7b0-490a-ca62-4c2b4fbf5481"
      },
      "outputs": [
        {
          "output_type": "stream",
          "name": "stdout",
          "text": [
            "Cloning into 'tutorial'...\n",
            "remote: Enumerating objects: 2147, done.\u001b[K\n",
            "remote: Counting objects: 100% (1408/1408), done.\u001b[K\n",
            "remote: Compressing objects: 100% (1134/1134), done.\u001b[K\n",
            "remote: Total 2147 (delta 311), reused 1328 (delta 249), pack-reused 739\u001b[K\n",
            "Receiving objects: 100% (2147/2147), 29.67 MiB | 26.58 MiB/s, done.\n",
            "Resolving deltas: 100% (560/560), done.\n",
            "Cloning into 'Open-Catalyst-Dataset'...\n",
            "remote: Enumerating objects: 1822, done.\u001b[K\n",
            "remote: Counting objects: 100% (514/514), done.\u001b[K\n",
            "remote: Compressing objects: 100% (229/229), done.\u001b[K\n",
            "remote: Total 1822 (delta 315), reused 340 (delta 284), pack-reused 1308\u001b[K\n",
            "Receiving objects: 100% (1822/1822), 36.89 MiB | 22.53 MiB/s, done.\n",
            "Resolving deltas: 100% (1137/1137), done.\n",
            "Obtaining file:///content/ocp/Open-Catalyst-Dataset\n",
            "  Preparing metadata (setup.py) ... \u001b[?25l\u001b[?25hdone\n",
            "Installing collected packages: ocdata\n",
            "  Running setup.py develop for ocdata\n",
            "Successfully installed ocdata-0.2.0\n",
            "Cloning into 'Open-Catalyst-Dataset'...\n",
            "remote: Enumerating objects: 1822, done.\u001b[K\n",
            "remote: Counting objects: 100% (514/514), done.\u001b[K\n",
            "remote: Compressing objects: 100% (229/229), done.\u001b[K\n",
            "remote: Total 1822 (delta 315), reused 340 (delta 284), pack-reused 1308\u001b[K\n",
            "Receiving objects: 100% (1822/1822), 36.89 MiB | 24.55 MiB/s, done.\n",
            "Resolving deltas: 100% (1137/1137), done.\n"
          ]
        }
      ],
      "source": [
        "import locale\n",
        "locale.getpreferredencoding = lambda: \"UTF-8\"\n",
        "if not os.path.exists('tutorial'):\n",
        "     !git clone https://github.com/Open-Catalyst-Project/tutorial.git\n",
        "!git clone https://github.com/Open-Catalyst-Project/Open-Catalyst-Dataset.git\n",
        "\n",
        "!pip install -e ./Open-Catalyst-Dataset\n",
        "os.chdir('Open-Catalyst-Dataset')\n",
        "!git clone -b OC22_dataset https://github.com/Open-Catalyst-Project/Open-Catalyst-Dataset.git\n"
      ]
    },
    {
      "cell_type": "markdown",
      "source": [
        "example to use Bulk module."
      ],
      "metadata": {
        "id": "DeAGNTww4pwd"
      }
    },
    {
      "cell_type": "markdown",
      "source": [
        "'/content/ocp/Open-Catalyst-Dataset/ocdata/databases/pkls/bulks.pkl'\n",
        "이 피클파일에는 아래 기준을 통과한 안정한 bulk구조들만 담겨있음.\n",
        "\n",
        "\n",
        "Pymatgen (63) was used to search over all bulk materials in the Materials Project with nonpositive formation energies and energies above lower hulls of at most 0.1 eV/atom.\n",
        "https://pubs.acs.org/doi/full/10.1021/acscatal.0c04525"
      ],
      "metadata": {
        "id": "xmd0vEwL7uu4"
      }
    },
    {
      "cell_type": "markdown",
      "source": [
        "bulk 모듈 사용예시 by GPT"
      ],
      "metadata": {
        "id": "r9YEh58OPRVE"
      }
    },
    {
      "cell_type": "code",
      "source": [
        "import os\n",
        "from ocdata.core.bulk import Bulk\n",
        "\n",
        "# Path to the bulk database pickle file\n",
        "bulk_db_path = '/content/ocp/Open-Catalyst-Dataset/ocdata/databases/pkls/bulks.pkl'\n",
        "\n",
        "# Initialize a Bulk object in various ways\n",
        "\n",
        "# 1. Initialize a Bulk object by randomly selecting from the bulk database\n",
        "bulk_random = Bulk(bulk_db_path=bulk_db_path)\n",
        "print(\"Random Bulk:\", bulk_random)\n",
        "\n",
        "# 2. Initialize a Bulk object with a specific bulk ID from the database\n",
        "bulk_id = 5  # Example bulk ID\n",
        "bulk_with_id = Bulk(bulk_id_from_db=bulk_id, bulk_db_path=bulk_db_path)\n",
        "print(\"Bulk with ID:\", bulk_with_id)\n",
        "\n",
        "# 3. Initialize a Bulk object with a specific source ID from the database\n",
        "bulk_src_id = \"mp-30\"  # Example source ID\n",
        "bulk_with_src_id = Bulk(bulk_src_id_from_db=bulk_src_id, bulk_db_path=bulk_db_path)\n",
        "print(\"Bulk with Source ID:\", bulk_with_src_id)\n",
        "\n",
        "# Generate slabs from a Bulk object\n",
        "max_miller_index = 1\n",
        "slabs = bulk_random.get_slabs(max_miller=max_miller_index)\n",
        "print(f\"Number of slabs generated from random bulk: {len(slabs)}\")\n",
        "\n",
        "# Each slab can be further processed or analyzed as required\n",
        "for i, slab in enumerate(slabs):\n",
        "    print(f\"Slab {i}: {slab}\")\n"
      ],
      "metadata": {
        "colab": {
          "base_uri": "https://localhost:8080/"
        },
        "id": "L8EEPH063HMd",
        "outputId": "fa751629-b6ad-43da-b4b0-d52faa0f3c98"
      },
      "execution_count": 9,
      "outputs": [
        {
          "output_type": "stream",
          "name": "stdout",
          "text": [
            "Random Bulk: Bulk: (IrNiTi2)\n",
            "Bulk with ID: Bulk: (In)\n",
            "Bulk with Source ID: Bulk: (Cu)\n",
            "Number of slabs generated from random bulk: 7\n",
            "Slab 0: Slab: (Ir12Ni12Ti24, (1, 1, 1), 0.04166666666666685, True)\n",
            "Slab 1: Slab: (Ir12Ni12Ti24, (1, 1, 1), 0.12500000000000017, True)\n",
            "Slab 2: Slab: (Ir12Ni12Ti24, (1, 1, 1), 0.04166666666666685, False)\n",
            "Slab 3: Slab: (Ir12Ni12Ti24, (1, 1, 1), 0.12500000000000017, False)\n",
            "Slab 4: Slab: (Ir16Ni16Ti32, (1, 1, 0), 0.12499999999999993, True)\n",
            "Slab 5: Slab: (Ir16Ni16Ti32, (1, 0, 0), 0.125, True)\n",
            "Slab 6: Slab: (Ir16Ni16Ti32, (1, 0, 0), 0.125, False)\n"
          ]
        }
      ]
    },
    {
      "cell_type": "markdown",
      "source": [
        "get all bulks"
      ],
      "metadata": {
        "id": "BPb5XkqRPTtQ"
      }
    },
    {
      "cell_type": "code",
      "source": [
        "import pickle\n",
        "from ocdata.core.bulk import Bulk\n",
        "\n",
        "bulk_db_path = '/content/ocp/Open-Catalyst-Dataset/ocdata/databases/pkls/bulks.pkl'\n",
        "\n",
        "# Load the entire bulk database\n",
        "with open(bulk_db_path, 'rb') as file:\n",
        "    bulk_db = pickle.load(file)\n",
        "\n",
        "all_bulks = []\n",
        "all_bulk_atoms_list=[]\n",
        "for bulk_entry in bulk_db:\n",
        "    # Using the atoms directly\n",
        "    bulk_atoms = bulk_entry['atoms']\n",
        "    bulk_obj = Bulk(bulk_atoms=bulk_atoms)\n",
        "    all_bulks.append(bulk_obj)\n",
        "    all_bulk_atoms_list.append(bulk_atoms)\n",
        "\n",
        "print(len(all_bulk_atoms_list))\n",
        "print(all_bulk_atoms_list[0].symbols)\n"
      ],
      "metadata": {
        "colab": {
          "base_uri": "https://localhost:8080/"
        },
        "id": "gdoTyldP3o3o",
        "outputId": "4920acc2-fb52-44c9-ccd4-bbdbd3f19dfc"
      },
      "execution_count": 10,
      "outputs": [
        {
          "output_type": "stream",
          "name": "stdout",
          "text": [
            "11410\n",
            "Re2\n"
          ]
        }
      ]
    },
    {
      "cell_type": "markdown",
      "source": [
        "bimetallic 중에서 관심있는애들만 선별\n",
        "screening criteria 수정가능. 일단3d-5d metal로만 고름, non toxic한애들만 고름\n",
        "\n",
        "일단 bulk아톰수가 n개가 넘지 않는 단순한 bulk에 대해서만 컬렉팅하도록 짜놓긴했는데 이 n개라는 기준은 바뀌어야함.(n=8로 일단 짜놓음.)\n"
      ],
      "metadata": {
        "id": "FJOftUGH7-DQ"
      }
    },
    {
      "cell_type": "code",
      "source": [
        "from collections import Counter\n",
        "from pymatgen.core.periodic_table import Element\n",
        "import pickle\n",
        "from ocdata.core.bulk import Bulk\n",
        "\n",
        "# Define the screening criteria for elements\n",
        "elements_to_do = [el.symbol for el in Element if el.number < 80 and 21 < el.number and 3 < el.group < 13]\n",
        "exclude_elements = ['Pb', 'Tl', 'Hg', 'Cd', 'Mg', 'As']  # Elements to exclude\n",
        "elements_to_do = [el for el in elements_to_do if el not in exclude_elements]\n",
        "print(elements_to_do)\n",
        "# Load the entire bulk database\n",
        "bulk_db_path = '/content/ocp/Open-Catalyst-Dataset/ocdata/databases/pkls/bulks.pkl'\n",
        "with open(bulk_db_path, 'rb') as file:\n",
        "    bulk_db = pickle.load(file)\n",
        "\n",
        "unary_bulk_info = {}\n",
        "binary_bulk_info = {}\n",
        "\n",
        "# Iterate over the bulk database to find unary and binary bulks\n",
        "for idx, bulk_entry in enumerate(bulk_db):\n",
        "    bulk_atoms = bulk_entry['atoms']\n",
        "    elements = bulk_atoms.get_chemical_symbols()\n",
        "    element_count = Counter(elements)\n",
        "\n",
        "    # Check if the bulk is unary or binary, matches the criteria, and has 10 or fewer atoms\n",
        "    if all(el in elements_to_do for el in element_count) and len(bulk_atoms) <= 8:\n",
        "        bulk_chemical_formula = bulk_atoms.get_chemical_formula()\n",
        "        if len(element_count) == 1:\n",
        "            unary_bulk_info[idx] = {'src_id': bulk_entry.get('src_id', None), 'formula': bulk_chemical_formula}\n",
        "        elif len(element_count) == 2:\n",
        "            binary_bulk_info[idx] = {'src_id': bulk_entry.get('src_id', None), 'formula': bulk_chemical_formula}\n",
        "\n",
        "print(\"Unary bulk info:\", unary_bulk_info)\n",
        "print(\"Binary bulk info:\", binary_bulk_info)\n",
        "print(\"Unary bulk info:\", len(unary_bulk_info))\n",
        "print(\"Binary bulk info:\", len(binary_bulk_info))"
      ],
      "metadata": {
        "colab": {
          "base_uri": "https://localhost:8080/"
        },
        "id": "t-5V9MncRaD8",
        "outputId": "700528bc-298d-44c0-f89b-df98a0e8eb43"
      },
      "execution_count": 30,
      "outputs": [
        {
          "output_type": "stream",
          "name": "stdout",
          "text": [
            "['Ti', 'V', 'Cr', 'Mn', 'Fe', 'Co', 'Ni', 'Cu', 'Zn', 'Zr', 'Nb', 'Mo', 'Tc', 'Ru', 'Rh', 'Pd', 'Ag', 'Hf', 'Ta', 'W', 'Re', 'Os', 'Ir', 'Pt', 'Au']\n",
            "Unary bulk info: {0: {'src_id': 'mp-8', 'formula': 'Re2'}, 2: {'src_id': 'mp-49', 'formula': 'Os2'}, 3: {'src_id': 'mp-91', 'formula': 'W'}, 6: {'src_id': 'mp-146', 'formula': 'V'}, 7: {'src_id': 'mp-101', 'formula': 'Ir'}, 9: {'src_id': 'mp-74', 'formula': 'Rh'}, 10: {'src_id': 'mp-54', 'formula': 'Co2'}, 11: {'src_id': 'mp-13', 'formula': 'Fe'}, 12: {'src_id': 'mp-30', 'formula': 'Cu'}, 14: {'src_id': 'mp-81', 'formula': 'Au'}, 17: {'src_id': 'mp-124', 'formula': 'Ag'}, 18: {'src_id': 'mp-2', 'formula': 'Pd'}, 19: {'src_id': 'mp-126', 'formula': 'Pt'}, 20: {'src_id': 'mp-23', 'formula': 'Ni'}, 21: {'src_id': 'mp-79', 'formula': 'Zn2'}, 22: {'src_id': 'mp-33', 'formula': 'Ru2'}, 25: {'src_id': 'mp-129', 'formula': 'Mo'}, 26: {'src_id': 'mp-90', 'formula': 'Cr'}, 28: {'src_id': 'mp-72', 'formula': 'Ti3'}, 29: {'src_id': 'mp-1008634', 'formula': 'Au2'}, 31: {'src_id': 'mp-989737', 'formula': 'Ag3'}, 36: {'src_id': 'mp-75', 'formula': 'Nb'}, 37: {'src_id': 'mp-1056037', 'formula': 'V'}, 40: {'src_id': 'mp-1056486', 'formula': 'Ni'}, 41: {'src_id': 'mp-1061133', 'formula': 'Ru2'}, 44: {'src_id': 'mp-1056438', 'formula': 'Pd'}, 49: {'src_id': 'mp-113', 'formula': 'Tc2'}, 50: {'src_id': 'mp-50', 'formula': 'Ta'}, 55: {'src_id': 'mp-103', 'formula': 'Hf2'}, 56: {'src_id': 'mp-131', 'formula': 'Zr2'}, 60: {'src_id': 'mp-1186916', 'formula': 'Rh4'}, 61: {'src_id': 'mp-1186427', 'formula': 'Pd4'}, 62: {'src_id': 'mp-568345', 'formula': 'Fe6'}, 63: {'src_id': 'mp-1096950', 'formula': 'Fe'}, 64: {'src_id': 'mp-8639', 'formula': 'Ru'}, 65: {'src_id': 'mp-150', 'formula': 'Fe'}, 66: {'src_id': 'mp-136', 'formula': 'Fe2'}, 68: {'src_id': 'mp-10257', 'formula': 'Ni2'}, 69: {'src_id': 'mp-1008728', 'formula': 'Ni'}, 70: {'src_id': 'mp-1014111', 'formula': 'Ni4'}, 71: {'src_id': 'mp-1094136', 'formula': 'Ni4'}, 73: {'src_id': 'mp-102', 'formula': 'Co4'}, 74: {'src_id': 'mp-1183710', 'formula': 'Co4'}, 75: {'src_id': 'mp-1072089', 'formula': 'Co6'}, 76: {'src_id': 'mp-1120774', 'formula': 'Cu6'}, 79: {'src_id': 'mp-6986', 'formula': 'Ta'}, 80: {'src_id': 'mp-8640', 'formula': 'Hf'}, 81: {'src_id': 'mp-1009460', 'formula': 'Hf3'}, 82: {'src_id': 'mp-100', 'formula': 'Hf'}, 86: {'src_id': 'mp-1010136', 'formula': 'Cu'}, 87: {'src_id': 'mp-989695', 'formula': 'Cu4'}, 90: {'src_id': 'mp-989782', 'formula': 'Cu2'}, 94: {'src_id': 'mp-1186901', 'formula': 'Re4'}, 102: {'src_id': 'mp-46', 'formula': 'Ti2'}, 114: {'src_id': 'mp-1077723', 'formula': 'Zr6'}, 116: {'src_id': 'mp-1187812', 'formula': 'Zn3'}, 121: {'src_id': 'mp-8634', 'formula': 'Mn'}, 133: {'src_id': 'mp-41', 'formula': 'Zr'}, 138: {'src_id': 'mp-867351', 'formula': 'Tc4'}, 156: {'src_id': 'mp-8638', 'formula': 'Tc'}, 160: {'src_id': 'mp-975065', 'formula': 'Re3'}, 194: {'src_id': 'mp-6985', 'formula': 'Ti'}, 207: {'src_id': 'mp-8635', 'formula': 'Zr'}, 214: {'src_id': 'mp-11334', 'formula': 'W8'}, 215: {'src_id': 'mp-17', 'formula': 'Cr8'}, 223: {'src_id': 'mp-8642', 'formula': 'Re'}}\n",
            "Binary bulk info: {239: {'src_id': 'mp-12108', 'formula': 'Pt2V'}, 240: {'src_id': 'mp-11549', 'formula': 'Pd2V'}, 244: {'src_id': 'mp-12778', 'formula': 'OsV'}, 249: {'src_id': 'mp-865385', 'formula': 'ReV3'}, 250: {'src_id': 'mp-30866', 'formula': 'Rh6W2'}, 251: {'src_id': 'mp-865960', 'formula': 'Co2Re6'}, 254: {'src_id': 'mp-974376', 'formula': 'PtRh3'}, 255: {'src_id': 'mp-982070', 'formula': 'Ir4V4'}, 259: {'src_id': 'mp-862604', 'formula': 'Ni2Re6'}, 261: {'src_id': 'mp-1585', 'formula': 'Co2V6'}, 262: {'src_id': 'mp-30811', 'formula': 'Ni4W'}, 264: {'src_id': 'mp-7226', 'formula': 'Ni2V6'}, 266: {'src_id': 'mp-839', 'formula': 'Au2V6'}, 270: {'src_id': 'mp-1251', 'formula': 'Rh2V2'}, 271: {'src_id': 'mp-1281', 'formula': 'Ir2V2'}, 274: {'src_id': 'mp-865212', 'formula': 'Fe6Re2'}, 286: {'src_id': 'mp-1335', 'formula': 'FeV'}, 287: {'src_id': 'mp-862586', 'formula': 'Pd2Re6'}, 288: {'src_id': 'mp-2260', 'formula': 'FePt'}, 289: {'src_id': 'mp-949', 'formula': 'Co2Pt2'}, 294: {'src_id': 'mp-30744', 'formula': 'Ir2W2'}, 300: {'src_id': 'mp-2831', 'formula': 'Fe2Pd2'}, 302: {'src_id': 'mp-862589', 'formula': 'Pt2Re6'}, 304: {'src_id': 'mp-866161', 'formula': 'Rh6V2'}, 305: {'src_id': 'mp-863709', 'formula': 'Ir3Rh'}, 310: {'src_id': 'mp-867792', 'formula': 'Ir6Re2'}, 311: {'src_id': 'mp-1418', 'formula': 'FeNi3'}, 314: {'src_id': 'mp-1008349', 'formula': 'Co3Ni'}, 315: {'src_id': 'mp-865193', 'formula': 'Co6Pt2'}, 316: {'src_id': 'mp-2103', 'formula': 'Au3Cu'}, 317: {'src_id': 'mp-973834', 'formula': 'Au3Pd'}, 319: {'src_id': 'mp-1018129', 'formula': 'Pt2W'}, 322: {'src_id': 'mp-601820', 'formula': 'CoFe3'}, 323: {'src_id': 'mp-867303', 'formula': 'AgAu3'}, 325: {'src_id': 'mp-974430', 'formula': 'IrRe3'}, 328: {'src_id': 'mp-867264', 'formula': 'Os2Re6'}, 329: {'src_id': 'mp-2157', 'formula': 'Co6W2'}, 331: {'src_id': 'mp-867141', 'formula': 'Os6Re2'}, 332: {'src_id': 'mp-522', 'formula': 'Au2Cu2'}, 333: {'src_id': 'mp-1018029', 'formula': 'CuPd'}, 334: {'src_id': 'mp-580357', 'formula': 'Cu3Pd'}, 338: {'src_id': 'mp-922', 'formula': 'CoPt3'}, 341: {'src_id': 'mp-1017531', 'formula': 'Pt2V2'}, 344: {'src_id': 'mp-999298', 'formula': 'AuPd3'}, 360: {'src_id': 'mp-2006', 'formula': 'Ir2V6'}, 364: {'src_id': 'mp-1664', 'formula': 'Pd2V6'}, 368: {'src_id': 'mp-11798', 'formula': 'Fe6Pt2'}, 372: {'src_id': 'mp-862798', 'formula': 'Pt3W'}, 390: {'src_id': 'mp-974395', 'formula': 'Pt3Rh'}, 394: {'src_id': 'mp-973839', 'formula': 'Au3Pd'}, 401: {'src_id': 'mp-2705', 'formula': 'Pt3V'}, 407: {'src_id': 'mp-1578', 'formula': 'Rh2V6'}, 418: {'src_id': 'mp-569250', 'formula': 'Ir2V2'}, 420: {'src_id': 'mp-971751', 'formula': 'Rh2V2'}, 433: {'src_id': 'mp-171', 'formula': 'Ni3V'}, 438: {'src_id': 'mp-2678', 'formula': 'Pt2V2'}, 442: {'src_id': 'mp-1007855', 'formula': 'FeNi3'}, 446: {'src_id': 'mp-979980', 'formula': 'Pd6V2'}, 447: {'src_id': 'mp-568711', 'formula': 'Pd3V'}, 449: {'src_id': 'mp-11531', 'formula': 'Ni2V'}, 450: {'src_id': 'mp-865496', 'formula': 'Ir6V2'}, 451: {'src_id': 'mp-2211', 'formula': 'Pt2V6'}, 453: {'src_id': 'mp-1008274', 'formula': 'Co3W'}, 469: {'src_id': 'mp-1918', 'formula': 'FeRh'}, 471: {'src_id': 'mp-866121', 'formula': 'OsV3'}, 476: {'src_id': 'mp-30745', 'formula': 'Ir6W2'}, 479: {'src_id': 'mp-873', 'formula': 'Pd3V'}, 488: {'src_id': 'mp-1082', 'formula': 'Ir3V'}, 491: {'src_id': 'mp-12608', 'formula': 'CuPt7'}, 494: {'src_id': 'mp-12086', 'formula': 'Cu3Pt'}, 495: {'src_id': 'mp-12798', 'formula': 'Ni3Pt'}, 516: {'src_id': 'mp-2258', 'formula': 'AuCu3'}, 531: {'src_id': 'mp-21845', 'formula': 'FePd3'}, 533: {'src_id': 'mp-372', 'formula': 'Pt3V'}, 535: {'src_id': 'mp-974370', 'formula': 'PtRh3'}, 536: {'src_id': 'mp-1185', 'formula': 'Rh3V'}, 538: {'src_id': 'mp-1017529', 'formula': 'Co3V'}, 539: {'src_id': 'mp-2090', 'formula': 'CoFe'}, 540: {'src_id': 'mp-1649', 'formula': 'Fe3Pt'}, 542: {'src_id': 'mp-866134', 'formula': 'Fe3V'}, 585: {'src_id': 'mp-979115', 'formula': 'AgTi2'}, 655: {'src_id': 'mp-11252', 'formula': 'Au2Mn'}, 656: {'src_id': 'mp-30410', 'formula': 'Au5Mn2'}, 657: {'src_id': 'mp-864794', 'formula': 'Ag3Zn'}, 659: {'src_id': 'mp-11506', 'formula': 'Mo2Ni6'}, 660: {'src_id': 'mp-11507', 'formula': 'MoNi4'}, 666: {'src_id': 'mp-981215', 'formula': 'CoZn3'}, 674: {'src_id': 'mp-998985', 'formula': 'Au2Ti2'}, 679: {'src_id': 'mp-12674', 'formula': 'AuMn'}, 680: {'src_id': 'mp-1018123', 'formula': 'Au2Ti'}, 685: {'src_id': 'mp-12635', 'formula': 'Au4Ti'}, 687: {'src_id': 'mp-1912', 'formula': 'AgZn'}, 689: {'src_id': 'mp-1017985', 'formula': 'Ag2Ti2'}, 690: {'src_id': 'mp-608', 'formula': 'Co3Ti'}, 691: {'src_id': 'mp-1786', 'formula': 'Au2Ti6'}, 710: {'src_id': 'mp-12565', 'formula': 'Au4Mn'}, 717: {'src_id': 'mp-1684', 'formula': 'AuZn'}, 719: {'src_id': 'mp-998972', 'formula': 'Au2Ti2'}, 722: {'src_id': 'mp-12675', 'formula': 'AuMn'}, 738: {'src_id': 'mp-975079', 'formula': 'Mn2Zn6'}, 739: {'src_id': 'mp-972042', 'formula': 'Cu2Zn6'}, 745: {'src_id': 'mp-12546', 'formula': 'Cu6Ti2'}, 747: {'src_id': 'mp-644500', 'formula': 'MoZn7'}, 748: {'src_id': 'mp-742', 'formula': 'CuTi2'}, 753: {'src_id': 'mp-30599', 'formula': 'Cu3Ti2'}, 773: {'src_id': 'mp-784631', 'formula': 'CrNi2'}, 793: {'src_id': 'mp-865786', 'formula': 'CrPd3'}, 798: {'src_id': 'mp-695', 'formula': 'Co4Ti2'}, 800: {'src_id': 'mp-1017983', 'formula': 'Mo3Ti'}, 801: {'src_id': 'mp-975834', 'formula': 'Mo2Ru6'}, 802: {'src_id': 'mp-865045', 'formula': 'Mn2Ru6'}, 810: {'src_id': 'mp-971948', 'formula': 'CoZn3'}, 811: {'src_id': 'mp-1139', 'formula': 'Co6Mo2'}, 815: {'src_id': 'mp-972048', 'formula': 'MoZn6'}, 823: {'src_id': 'mp-446', 'formula': 'Cr6Pt2'}, 824: {'src_id': 'mp-1609', 'formula': 'Cr6Ir2'}, 848: {'src_id': 'mp-1380', 'formula': 'Ru2Zn6'}, 854: {'src_id': 'mp-2643', 'formula': 'Cu4Ti3'}, 859: {'src_id': 'mp-987', 'formula': 'CuZn'}, 872: {'src_id': 'mp-592', 'formula': 'RuTi'}, 912: {'src_id': 'mp-12585', 'formula': 'CrRh3'}, 914: {'src_id': 'mp-1425', 'formula': 'Cr4Ti2'}, 919: {'src_id': 'mp-1009133', 'formula': 'CoMn'}, 924: {'src_id': 'mp-952', 'formula': 'MoPt2'}, 926: {'src_id': 'mp-1670', 'formula': 'Mn2Pt2'}, 927: {'src_id': 'mp-865362', 'formula': 'IrZn3'}, 928: {'src_id': 'mp-1235', 'formula': 'Ir2Ti2'}, 929: {'src_id': 'mp-1120', 'formula': 'Ir2Mo6'}, 930: {'src_id': 'mp-2728', 'formula': 'Ir2Mn2'}, 940: {'src_id': 'mp-974455', 'formula': 'Re3Ru'}, 943: {'src_id': 'mp-1018121', 'formula': 'Pd2Ti'}, 950: {'src_id': 'mp-862655', 'formula': 'Ru6W2'}, 951: {'src_id': 'mp-971788', 'formula': 'Ru6V2'}, 954: {'src_id': 'mp-971779', 'formula': 'Rh3Zn'}, 955: {'src_id': 'mp-2583', 'formula': 'Rh2Ti2'}, 956: {'src_id': 'mp-894', 'formula': 'Pt2Zn2'}, 957: {'src_id': 'mp-865425', 'formula': 'Pd3Zn'}, 959: {'src_id': 'mp-974326', 'formula': 'Os2Ru6'}, 960: {'src_id': 'mp-1048', 'formula': 'Ni2Ti2'}, 961: {'src_id': 'mp-12595', 'formula': 'Mo2Rh2'}, 963: {'src_id': 'mp-11482', 'formula': 'Ir6Mo2'}, 964: {'src_id': 'mp-864735', 'formula': 'Ir2Mn6'}, 966: {'src_id': 'mp-998949', 'formula': 'Pt2Ti2'}, 978: {'src_id': 'mp-636328', 'formula': 'Pd3Ti'}, 988: {'src_id': 'mp-238', 'formula': 'Mn2Pd2'}, 989: {'src_id': 'mp-11481', 'formula': 'Ir2Mo2'}, 993: {'src_id': 'mp-865342', 'formula': 'RhZn3'}, 1003: {'src_id': 'mp-30856', 'formula': 'Pt3Zn'}, 1012: {'src_id': 'mp-971804', 'formula': 'Ni3Zn'}, 1020: {'src_id': 'mp-12594', 'formula': 'IrTi'}, 1042: {'src_id': 'mp-417', 'formula': 'MnRh'}, 1043: {'src_id': 'mp-1152', 'formula': 'Rh3Ti'}, 1048: {'src_id': 'mp-13164', 'formula': 'PdTi2'}, 1049: {'src_id': 'mp-11563', 'formula': 'RhTi'}, 1065: {'src_id': 'mp-2515', 'formula': 'CrPt3'}, 1073: {'src_id': 'mp-1486', 'formula': 'NiZn'}, 1074: {'src_id': 'mp-1902', 'formula': 'MnPd'}, 1076: {'src_id': 'mp-31138', 'formula': 'Mn2Pd6'}, 1081: {'src_id': 'mp-1797', 'formula': 'Mn2Ni2'}, 1085: {'src_id': 'mp-979261', 'formula': 'Pd2Ti2'}, 1090: {'src_id': 'mp-6938', 'formula': 'RhZn'}, 1091: {'src_id': 'mp-570199', 'formula': 'Pd5Ti3'}, 1092: {'src_id': 'mp-823', 'formula': 'CoTi'}, 1095: {'src_id': 'mp-865899', 'formula': 'OsTi3'}, 1102: {'src_id': 'mp-1018125', 'formula': 'ReTi2'}, 1104: {'src_id': 'mp-971941', 'formula': 'NiZn3'}, 1105: {'src_id': 'mp-544', 'formula': 'Ir2Ti6'}, 1106: {'src_id': 'mp-865355', 'formula': 'PtZn3'}, 1107: {'src_id': 'mp-603347', 'formula': 'Ni2Ti2'}, 1112: {'src_id': 'mp-865357', 'formula': 'PdZn3'}, 1115: {'src_id': 'mp-1652', 'formula': 'Pd2Zn2'}, 1124: {'src_id': 'mp-980094', 'formula': 'Pd2Ti2'}, 1127: {'src_id': 'mp-971909', 'formula': 'Pd6Zn2'}, 1128: {'src_id': 'mp-865022', 'formula': 'Ir6Mn2'}, 1129: {'src_id': 'mp-999502', 'formula': 'Mo2Pt2'}, 1134: {'src_id': 'mp-862620', 'formula': 'Ir2Ru6'}, 1149: {'src_id': 'mp-980200', 'formula': 'Rh2Zn6'}, 1151: {'src_id': 'mp-864984', 'formula': 'MnV3'}, 1152: {'src_id': 'mp-998945', 'formula': 'Ni2Ti2'}, 1158: {'src_id': 'mp-974421', 'formula': 'IrRu'}, 1173: {'src_id': 'mp-971758', 'formula': 'Ni3Zn'}, 1177: {'src_id': 'mp-1007923', 'formula': 'CrNi3'}, 1178: {'src_id': 'mp-784630', 'formula': 'MoNi2'}, 1180: {'src_id': 'mp-11578', 'formula': 'VZn3'}, 1185: {'src_id': 'mp-429', 'formula': 'Ni2Zn2'}, 1189: {'src_id': 'mp-972071', 'formula': 'MoV3'}, 1190: {'src_id': 'mp-865382', 'formula': 'RuV3'}, 1193: {'src_id': 'mp-21289', 'formula': 'TiZn3'}, 1198: {'src_id': 'mp-862630', 'formula': 'Re2Ru6'}, 1199: {'src_id': 'mp-1089', 'formula': 'Ir3Ti'}, 1202: {'src_id': 'mp-1018124', 'formula': 'RhTi2'}, 1203: {'src_id': 'mp-12083', 'formula': 'CrIr3'}, 1212: {'src_id': 'mp-11504', 'formula': 'MnZn3'}, 1213: {'src_id': 'mp-1014229', 'formula': 'Ti2Zn'}, 1215: {'src_id': 'mp-11546', 'formula': 'PdTi'}, 1230: {'src_id': 'mp-974625', 'formula': 'Re6Ru2'}, 1234: {'src_id': 'mp-1014230', 'formula': 'TiZn'}, 1263: {'src_id': 'mp-866186', 'formula': 'Ti3Zn'}, 1264: {'src_id': 'mp-291', 'formula': 'OsTi'}, 1271: {'src_id': 'mp-1180', 'formula': 'MnPt3'}, 1273: {'src_id': 'mp-1395', 'formula': 'RuV'}, 1276: {'src_id': 'mp-972220', 'formula': 'Pt6Ti2'}, 1285: {'src_id': 'mp-11501', 'formula': 'MnNi3'}, 1286: {'src_id': 'mp-30787', 'formula': 'Mo2Rh6'}, 1289: {'src_id': 'mp-2339', 'formula': 'Pt2Ti6'}, 1308: {'src_id': 'mp-2752', 'formula': 'Au2Nb6'}, 1312: {'src_id': 'mp-11515', 'formula': 'Nb2Rh2'}, 1313: {'src_id': 'mp-11514', 'formula': 'NbPt2'}, 1321: {'src_id': 'mp-11516', 'formula': 'NbRu'}, 1322: {'src_id': 'mp-1135', 'formula': 'NbPd3'}, 1323: {'src_id': 'mp-1932', 'formula': 'Nb6Os2'}, 1324: {'src_id': 'mp-11513', 'formula': 'NbNi3'}, 1330: {'src_id': 'mp-953', 'formula': 'NbZn3'}, 1335: {'src_id': 'mp-977434', 'formula': 'Nb3Ru'}, 1336: {'src_id': 'mp-999376', 'formula': 'Nb2Pt2'}, 1337: {'src_id': 'mp-1018151', 'formula': 'NbPd2'}, 1338: {'src_id': 'mp-1359', 'formula': 'Ir2Nb2'}, 1350: {'src_id': 'mp-670', 'formula': 'Co4Nb2'}, 1351: {'src_id': 'mp-432', 'formula': 'NbRu'}, 1353: {'src_id': 'mp-1606', 'formula': 'Au2Nb'}, 1357: {'src_id': 'mp-977426', 'formula': 'Co6Nb2'}, 1358: {'src_id': 'mp-1963', 'formula': 'Nb2Rh2'}, 1363: {'src_id': 'mp-1451', 'formula': 'Nb2Ni6'}, 1379: {'src_id': 'mp-2179', 'formula': 'ReTi'}, 1394: {'src_id': 'mp-12107', 'formula': 'Pt3Ti'}, 1395: {'src_id': 'mp-2663', 'formula': 'Nb6Pt2'}, 1424: {'src_id': 'mp-548', 'formula': 'Cr4Nb2'}, 1471: {'src_id': 'mp-1339', 'formula': 'Ir3Nb'}, 1479: {'src_id': 'mp-999389', 'formula': 'Fe3Nb'}, 1483: {'src_id': 'mp-2449', 'formula': 'NbRh3'}, 1489: {'src_id': 'mp-2123', 'formula': 'Au2Nb3'}, 1490: {'src_id': 'mp-316', 'formula': 'MnV'}, 1513: {'src_id': 'mp-974358', 'formula': 'Ir3Ru'}, 1519: {'src_id': 'mp-11517', 'formula': 'NbRu3'}, 1525: {'src_id': 'mp-1018021', 'formula': 'Co3Nb'}, 1529: {'src_id': 'mp-11500', 'formula': 'MnNi'}, 1538: {'src_id': 'mp-305', 'formula': 'FeTi'}, 1539: {'src_id': 'mp-1232', 'formula': 'Mo6Pt2'}, 1544: {'src_id': 'mp-1458', 'formula': 'Ir2Nb6'}, 1562: {'src_id': 'mp-1545', 'formula': 'Nb6Rh2'}, 1563: {'src_id': 'mp-571', 'formula': 'NiTi'}, 1569: {'src_id': 'mp-1007974', 'formula': 'CrNi3'}, 1575: {'src_id': 'mp-2078', 'formula': 'Cu2Ti2'}, 1579: {'src_id': 'mp-570895', 'formula': 'Au2Cu2'}, 1580: {'src_id': 'mp-863750', 'formula': 'AgAu3'}, 1595: {'src_id': 'mp-1067475', 'formula': 'Ni2Ti2'}, 1602: {'src_id': 'mp-1079796', 'formula': 'Pd2Ti6'}, 1611: {'src_id': 'mp-991544', 'formula': 'RuV'}, 1625: {'src_id': 'mp-1079337', 'formula': 'Fe2Ni6'}, 1630: {'src_id': 'mp-1077448', 'formula': 'Co4Ti2'}, 1640: {'src_id': 'mp-1078699', 'formula': 'Nb2Pt6'}, 1647: {'src_id': 'mp-990532', 'formula': 'CoTi'}, 1656: {'src_id': 'mp-1058696', 'formula': 'FeTi'}, 1661: {'src_id': 'mp-1061861', 'formula': 'Pd2Ti'}, 1663: {'src_id': 'mp-1079582', 'formula': 'Ir4V4'}, 1666: {'src_id': 'mp-1062948', 'formula': 'Ni2V'}, 1670: {'src_id': 'mp-1063561', 'formula': 'FeNi3'}, 1675: {'src_id': 'mp-990232', 'formula': 'Au4Mn'}, 1678: {'src_id': 'mp-1077429', 'formula': 'Nb2Ni4'}, 1690: {'src_id': 'mp-1087479', 'formula': 'Co6Cr2'}, 1697: {'src_id': 'mp-568067', 'formula': 'Ni2Pt2'}, 1701: {'src_id': 'mp-1077790', 'formula': 'Fe4Nb2'}, 1703: {'src_id': 'mp-1066232', 'formula': 'Fe3Pt'}, 1706: {'src_id': 'mp-1080603', 'formula': 'CoFe7'}, 1719: {'src_id': 'mp-1079863', 'formula': 'Co6Ti2'}, 1728: {'src_id': 'mp-1067248', 'formula': 'Ni2Ti2'}, 1740: {'src_id': 'mp-1079042', 'formula': 'Co6Mo2'}, 1749: {'src_id': 'mp-1064359', 'formula': 'Co3W'}, 1752: {'src_id': 'mp-1079946', 'formula': 'Co6W2'}, 1763: {'src_id': 'mp-1079131', 'formula': 'Ir4V4'}, 1769: {'src_id': 'mp-1062804', 'formula': 'Au2Ti'}, 1776: {'src_id': 'mp-1095057', 'formula': 'Co6V2'}, 1786: {'src_id': 'mp-1059972', 'formula': 'MnRh'}, 1803: {'src_id': 'mp-990243', 'formula': 'Cu3Ti2'}, 1810: {'src_id': 'mp-1056985', 'formula': 'PdTi'}, 1815: {'src_id': 'mp-1079399', 'formula': 'Fe2V6'}, 1834: {'src_id': 'mp-1078895', 'formula': 'Mn3Pd5'}, 1838: {'src_id': 'mp-10596', 'formula': 'FeIr3'}, 1861: {'src_id': 'mp-1077023', 'formula': 'Cu4Ti2'}, 1862: {'src_id': 'mp-1079496', 'formula': 'Mo2Ni6'}, 1933: {'src_id': 'mp-1100766', 'formula': 'Ni3Pt'}, 1987: {'src_id': 'mp-265', 'formula': 'Ir3Ta'}, 1990: {'src_id': 'mp-1007692', 'formula': 'Hf2Pd2'}, 2010: {'src_id': 'mp-567276', 'formula': 'Ta2V4'}, 2034: {'src_id': 'mp-972326', 'formula': 'Pt3Tc'}, 2043: {'src_id': 'mp-1018054', 'formula': 'HfPt3'}, 2063: {'src_id': 'mp-31205', 'formula': 'Fe2Zr6'}, 2067: {'src_id': 'mp-11460', 'formula': 'HfTc'}, 2074: {'src_id': 'mp-11573', 'formula': 'TcTi'}, 2101: {'src_id': 'mp-30383', 'formula': 'AuHf2'}, 2108: {'src_id': 'mp-2802', 'formula': 'HfRu'}, 2112: {'src_id': 'mp-11239', 'formula': 'Ag2Zr2'}, 2121: {'src_id': 'mp-13495', 'formula': 'Pd2Zr2'}, 2123: {'src_id': 'mp-2116', 'formula': 'Mn4Zr2'}, 2138: {'src_id': 'mp-569249', 'formula': 'Au2Ta6'}, 2140: {'src_id': 'mp-11454', 'formula': 'Hf2Pd'}, 2173: {'src_id': 'mp-1077372', 'formula': 'Cu2Zr4'}, 2175: {'src_id': 'mp-1080022', 'formula': 'Cu4Zr4'}, 2176: {'src_id': 'mp-1002122', 'formula': 'HfIr'}, 2198: {'src_id': 'mp-30850', 'formula': 'Pt6Ta2'}, 2217: {'src_id': 'mp-1718', 'formula': 'Fe4Zr2'}, 2220: {'src_id': 'mp-864889', 'formula': 'Zn6Zr2'}, 2223: {'src_id': 'mp-1017545', 'formula': 'Rh2Zr2'}, 2230: {'src_id': 'mp-979289', 'formula': 'TaW3'}, 2241: {'src_id': 'mp-867356', 'formula': 'Ru6Tc2'}, 2242: {'src_id': 'mp-11457', 'formula': 'HfRh'}, 2256: {'src_id': 'mp-13156', 'formula': 'Ag2Hf2'}, 2258: {'src_id': 'mp-568992', 'formula': 'Ir4Zr4'}, 2262: {'src_id': 'mp-1014219', 'formula': 'HfZn'}, 2263: {'src_id': 'mp-11452', 'formula': 'HfOs'}, 2264: {'src_id': 'mp-861610', 'formula': 'Pd2Tc6'}, 2265: {'src_id': 'mp-903', 'formula': 'Cr4Zr2'}, 2271: {'src_id': 'mp-514', 'formula': 'Hf2Zn4'}, 2301: {'src_id': 'mp-1007691', 'formula': 'Hf2Pt2'}, 2304: {'src_id': 'mp-929', 'formula': 'Co4Zr2'}, 2312: {'src_id': 'mp-30581', 'formula': 'CuHf2'}, 2318: {'src_id': 'mp-30836', 'formula': 'Pd3Ta'}, 2323: {'src_id': 'mp-30858', 'formula': 'Pt3Zr'}, 2333: {'src_id': 'mp-1014231', 'formula': 'Hf2Zn'}, 2334: {'src_id': 'mp-819', 'formula': 'Cr4Hf2'}, 2350: {'src_id': 'mp-1007656', 'formula': 'HfPd3'}, 2360: {'src_id': 'mp-2363', 'formula': 'Hf2Mo4'}, 2368: {'src_id': 'mp-11358', 'formula': 'Co3Ta'}, 2378: {'src_id': 'mp-2221', 'formula': 'AgZr2'}, 2379: {'src_id': 'mp-1067210', 'formula': 'Cu2Zr2'}, 2385: {'src_id': 'mp-1007786', 'formula': 'Hf2Ir2'}, 2390: {'src_id': 'mp-2049', 'formula': 'Mo4Zr2'}, 2395: {'src_id': 'mp-867352', 'formula': 'Rh6Tc2'}, 2423: {'src_id': 'mp-2337', 'formula': 'Co4Hf2'}, 2429: {'src_id': 'mp-867281', 'formula': 'Pt2Tc6'}, 2433: {'src_id': 'mp-1438', 'formula': 'Ir3Zr'}, 2434: {'src_id': 'mp-13155', 'formula': 'AgHf2'}, 2438: {'src_id': 'mp-193', 'formula': 'CuZr2'}, 2439: {'src_id': 'mp-11541', 'formula': 'OsZr'}, 2447: {'src_id': 'mp-715', 'formula': 'Ir4Zr2'}, 2473: {'src_id': 'mp-999133', 'formula': 'Pd2Ta2'}, 2477: {'src_id': 'mp-571664', 'formula': 'Rh2Zr4'}, 2482: {'src_id': 'mp-1020', 'formula': 'Rh3Ta'}, 2514: {'src_id': 'mp-865166', 'formula': 'HfPd5'}, 2518: {'src_id': 'mp-11263', 'formula': 'Au2Zr6'}, 2524: {'src_id': 'mp-1018103', 'formula': 'Au2Zr'}, 2525: {'src_id': 'mp-865733', 'formula': 'Co2Tc6'}, 2526: {'src_id': 'mp-214', 'formula': 'RuZr'}, 2533: {'src_id': 'mp-1018153', 'formula': 'Au2Hf'}, 2535: {'src_id': 'mp-2027', 'formula': 'CoHf'}, 2562: {'src_id': 'mp-1079681', 'formula': 'Au6Zr2'}, 2573: {'src_id': 'mp-30849', 'formula': 'Pt4Ta2'}, 2574: {'src_id': 'mp-1077297', 'formula': 'Ir2Zr4'}, 2599: {'src_id': 'mp-862770', 'formula': 'Ir2Tc6'}, 2602: {'src_id': 'mp-1095124', 'formula': 'Co6Ta2'}, 2608: {'src_id': 'mp-1018105', 'formula': 'ZnZr2'}, 2612: {'src_id': 'mp-11572', 'formula': 'TaTc'}, 2621: {'src_id': 'mp-30835', 'formula': 'Pd2Ta'}, 2639: {'src_id': 'mp-1064981', 'formula': 'Co2Hf2'}, 2641: {'src_id': 'mp-867345', 'formula': 'Ir6Tc2'}, 2654: {'src_id': 'mp-1065995', 'formula': 'Pt2Zr2'}, 2662: {'src_id': 'mp-628', 'formula': 'Co2Zr4'}, 2664: {'src_id': 'mp-1008601', 'formula': 'Ag2Zr'}, 2685: {'src_id': 'mp-2348', 'formula': 'AuZr2'}, 2686: {'src_id': 'mp-1017543', 'formula': 'Pd3Zr'}, 2691: {'src_id': 'mp-1017541', 'formula': 'Ir2Zr2'}, 2712: {'src_id': 'mp-1401', 'formula': 'Zn4Zr2'}, 2718: {'src_id': 'mp-570276', 'formula': 'ZnZr'}, 2723: {'src_id': 'mp-30619', 'formula': 'Co2Zr6'}, 2724: {'src_id': 'mp-2210', 'formula': 'CuZr'}, 2732: {'src_id': 'mp-862779', 'formula': 'Os2Tc6'}, 2750: {'src_id': 'mp-2126', 'formula': 'HfIr3'}, 2754: {'src_id': 'mp-972088', 'formula': 'ZnZr3'}, 2766: {'src_id': 'mp-1027', 'formula': 'HfRh3'}, 2767: {'src_id': 'mp-567181', 'formula': 'Rh4Zr4'}, 2786: {'src_id': 'mp-2540', 'formula': 'TcV'}, 2800: {'src_id': 'mp-1018102', 'formula': 'Pd2Zr'}, 2803: {'src_id': 'mp-866108', 'formula': 'Hf2Zn6'}, 2816: {'src_id': 'mp-2808', 'formula': 'RhZr'}, 2821: {'src_id': 'mp-1007755', 'formula': 'Au2Hf2'}, 2826: {'src_id': 'mp-675', 'formula': 'W4Zr2'}, 2831: {'src_id': 'mp-669917', 'formula': 'Rh4Zr4'}, 2833: {'src_id': 'mp-867212', 'formula': 'Os6Tc2'}, 2842: {'src_id': 'mp-333', 'formula': 'Fe4Hf2'}, 2843: {'src_id': 'mp-1159', 'formula': 'Fe2Zr4'}, 2871: {'src_id': 'mp-1799', 'formula': 'Co4Ta2'}, 2877: {'src_id': 'mp-12110', 'formula': 'RuTa'}, 2882: {'src_id': 'mp-229', 'formula': 'Rh3Zr'}, 2887: {'src_id': 'mp-13496', 'formula': 'PdZr'}, 2889: {'src_id': 'mp-1400', 'formula': 'Hf2W4'}, 2909: {'src_id': 'mp-574', 'formula': 'Co2Ta4'}, 2940: {'src_id': 'mp-983459', 'formula': 'HfZr'}, 2941: {'src_id': 'mp-1018055', 'formula': 'Hf2Ir2'}, 2946: {'src_id': 'mp-867816', 'formula': 'Ru3Ta'}, 2965: {'src_id': 'mp-865176', 'formula': 'Cu3Hf'}, 2968: {'src_id': 'mp-1079296', 'formula': 'Au6Hf2'}, 2969: {'src_id': 'mp-861630', 'formula': 'Ru2Tc6'}, 2986: {'src_id': 'mp-30603', 'formula': 'Cu5Zr'}, 2989: {'src_id': 'mp-977390', 'formula': 'RuTa3'}, 3015: {'src_id': 'mp-1601', 'formula': 'RuTa'}, 3035: {'src_id': 'mp-1070103', 'formula': 'Hf2Pt3'}, 3039: {'src_id': 'mp-861626', 'formula': 'Rh2Tc6'}, 3053: {'src_id': 'mp-1002106', 'formula': 'HfPd'}, 3056: {'src_id': 'mp-1072655', 'formula': 'Cu4Zr2'}, 3113: {'src_id': 'mp-1187993', 'formula': 'Co2Zn6'}, 3116: {'src_id': 'mp-1187696', 'formula': 'Cr3V'}, 3120: {'src_id': 'mp-1215257', 'formula': 'RhZr'}, 3121: {'src_id': 'mp-1215488', 'formula': 'Pd3Zn5'}, 3126: {'src_id': 'mp-1226229', 'formula': 'CrIr'}, 3127: {'src_id': 'mp-1220678', 'formula': 'Nb2Pd'}, 3128: {'src_id': 'mp-1225701', 'formula': 'CuPd'}, 3131: {'src_id': 'mp-1215509', 'formula': 'Pd4Zn2'}, 3133: {'src_id': 'mp-1226207', 'formula': 'CrPt4'}, 3134: {'src_id': 'mp-1217811', 'formula': 'TaW'}, 3135: {'src_id': 'mp-1217363', 'formula': 'RuTc'}, 3138: {'src_id': 'mp-1187241', 'formula': 'Ir6Ta2'}, 3149: {'src_id': 'mp-1229015', 'formula': 'AgPt'}, 3151: {'src_id': 'mp-1216290', 'formula': 'Pd3V'}, 3157: {'src_id': 'mp-1187952', 'formula': 'Ag6Zn2'}, 3159: {'src_id': 'mp-1183209', 'formula': 'AgPt'}, 3163: {'src_id': 'mp-1219940', 'formula': 'Pd4W'}, 3169: {'src_id': 'mp-1219908', 'formula': 'PdPt'}, 3194: {'src_id': 'mp-1188040', 'formula': 'Cu6Zr2'}, 3197: {'src_id': 'mp-1187946', 'formula': 'Ag3Zn'}, 3198: {'src_id': 'mp-1217422', 'formula': 'RhTc'}, 3201: {'src_id': 'mp-1184364', 'formula': 'Fe3Rh'}, 3212: {'src_id': 'mp-1215401', 'formula': 'Cu2Zn'}, 3214: {'src_id': 'mp-1221429', 'formula': 'MoPd3'}, 3216: {'src_id': 'mp-1184794', 'formula': 'IrRh3'}, 3219: {'src_id': 'mp-1216347', 'formula': 'FeV'}, 3226: {'src_id': 'mp-1187702', 'formula': 'VW3'}, 3227: {'src_id': 'mp-1221484', 'formula': 'Mo2Rh'}, 3235: {'src_id': 'mp-1219920', 'formula': 'AuPd'}, 3238: {'src_id': 'mp-1187512', 'formula': 'Au3Ti'}, 3251: {'src_id': 'mp-1220635', 'formula': 'Nb3Pd'}, 3257: {'src_id': 'mp-1184119', 'formula': 'CuPd3'}, 3263: {'src_id': 'mp-1186013', 'formula': 'Mn2Pd6'}, 3265: {'src_id': 'mp-1186060', 'formula': 'Mn2Os6'}, 3267: {'src_id': 'mp-1217409', 'formula': 'IrTc'}, 3271: {'src_id': 'mp-1187474', 'formula': 'Ti3Zn'}, 3278: {'src_id': 'mp-1184018', 'formula': 'Au3Cu'}, 3286: {'src_id': 'mp-1220327', 'formula': 'MoNb'}, 3293: {'src_id': 'mp-1220645', 'formula': 'AuNb3'}, 3298: {'src_id': 'mp-1229012', 'formula': 'AgPd'}, 3306: {'src_id': 'mp-1183222', 'formula': 'AgPd'}, 3309: {'src_id': 'mp-1186225', 'formula': 'NbOs3'}, 3310: {'src_id': 'mp-1185931', 'formula': 'Mn6Pt2'}, 3316: {'src_id': 'mp-1215575', 'formula': 'Au4Zn'}, 3335: {'src_id': 'mp-1206378', 'formula': 'TcZn7'}, 3338: {'src_id': 'mp-1220634', 'formula': 'Nb2Tc'}, 3340: {'src_id': 'mp-1206659', 'formula': 'Hf2Ir2'}, 3347: {'src_id': 'mp-1224883', 'formula': 'FePd3'}, 3349: {'src_id': 'mp-1187248', 'formula': 'Os6Ta2'}, 3356: {'src_id': 'mp-1215529', 'formula': 'Cu3Zn'}, 3362: {'src_id': 'mp-1187197', 'formula': 'OsTa3'}, 3365: {'src_id': 'mp-1187258', 'formula': 'Ru6Ta2'}, 3367: {'src_id': 'mp-1186447', 'formula': 'Au6Pd2'}, 3376: {'src_id': 'mp-1186374', 'formula': 'Os6W2'}, 3379: {'src_id': 'mp-1215274', 'formula': 'Au2Zr2'}, 3398: {'src_id': 'mp-1215579', 'formula': 'Pd4Zn'}, 3408: {'src_id': 'mp-1220401', 'formula': 'Nb4Pd'}, 3411: {'src_id': 'mp-1217961', 'formula': 'AuTa'}, 3413: {'src_id': 'mp-1187243', 'formula': 'Os3Ta'}, 3416: {'src_id': 'mp-1184368', 'formula': 'Fe2Rh6'}, 3418: {'src_id': 'mp-1187531', 'formula': 'Ti2Zn6'}, 3422: {'src_id': 'mp-1187913', 'formula': 'Pd3Zn'}, 3423: {'src_id': 'mp-1187697', 'formula': 'FeV3'}, 3424: {'src_id': 'mp-1225998', 'formula': 'CoPt'}, 3425: {'src_id': 'mp-1187695', 'formula': 'CrV3'}, 3427: {'src_id': 'mp-1223919', 'formula': 'IrRh'}, 3437: {'src_id': 'mp-1220023', 'formula': 'OsRu'}, 3438: {'src_id': 'mp-1216621', 'formula': 'TiW'}, 3441: {'src_id': 'mp-1221442', 'formula': 'MoPd4'}, 3445: {'src_id': 'mp-1217895', 'formula': 'MoTa'}, 3446: {'src_id': 'mp-1187969', 'formula': 'Ag2Zn6'}, 3453: {'src_id': 'mp-1186016', 'formula': 'Mo3Pt'}, 3462: {'src_id': 'mp-1186230', 'formula': 'Nb2Rh6'}, 3463: {'src_id': 'mp-1215497', 'formula': 'AgZn3'}, 3472: {'src_id': 'mp-1216329', 'formula': 'Fe4V'}, 3473: {'src_id': 'mp-1185935', 'formula': 'Mn6Os2'}, 3475: {'src_id': 'mp-1220323', 'formula': 'NbTc'}, 3476: {'src_id': 'mp-1216655', 'formula': 'MoTi'}, 3478: {'src_id': 'mp-1186437', 'formula': 'Pd3W'}, 3481: {'src_id': 'mp-1187257', 'formula': 'TaZn3'}, 3484: {'src_id': 'mp-1183749', 'formula': 'Cr2Ir6'}, 3485: {'src_id': 'mp-1215518', 'formula': 'Cu3Zn'}, 3486: {'src_id': 'mp-1229092', 'formula': 'AgAu'}, 3490: {'src_id': 'mp-1206819', 'formula': 'IrZn'}, 3491: {'src_id': 'mp-1188000', 'formula': 'Au2Zn6'}, 3493: {'src_id': 'mp-1187196', 'formula': 'IrTa3'}, 3497: {'src_id': 'mp-1225016', 'formula': 'CoFe'}, 3498: {'src_id': 'mp-1216675', 'formula': 'Mo2Ti'}, 3500: {'src_id': 'mp-1217168', 'formula': 'PdTi4'}, 3506: {'src_id': 'mp-1217407', 'formula': 'OsTc3'}, 3509: {'src_id': 'mp-1216323', 'formula': 'MoV'}, 3511: {'src_id': 'mp-1207004', 'formula': 'HfPd2'}, 3515: {'src_id': 'mp-1216231', 'formula': 'VW'}, 3522: {'src_id': 'mp-1187206', 'formula': 'Ta3W'}, 3527: {'src_id': 'mp-1184704', 'formula': 'Cu3Hf'}, 3530: {'src_id': 'mp-1183224', 'formula': 'AgAu3'}, 3536: {'src_id': 'mp-1225656', 'formula': 'CuPd'}, 3542: {'src_id': 'mp-1183705', 'formula': 'Cr6Pt2'}, 3559: {'src_id': 'mp-1186450', 'formula': 'PdPt3'}, 3561: {'src_id': 'mp-1206750', 'formula': 'CrPt'}, 3562: {'src_id': 'mp-1187219', 'formula': 'PtTa3'}, 3578: {'src_id': 'mp-1215437', 'formula': 'AgZn'}, 3580: {'src_id': 'mp-1216296', 'formula': 'Pd4V'}, 3581: {'src_id': 'mp-1183214', 'formula': 'Ag3Au'}, 3586: {'src_id': 'mp-1186231', 'formula': 'Ir6Nb2'}, 3589: {'src_id': 'mp-1186218', 'formula': 'Nb3Os'}, 3593: {'src_id': 'mp-1183137', 'formula': 'Ag3Au'}, 3603: {'src_id': 'mp-1216486', 'formula': 'Rh5V3'}, 3607: {'src_id': 'mp-1184721', 'formula': 'Co6Hf2'}, 3610: {'src_id': 'mp-1216394', 'formula': 'CrV'}, 3611: {'src_id': 'mp-1226089', 'formula': 'CoPt3'}, 3613: {'src_id': 'mp-1215363', 'formula': 'PdZr4'}, 3617: {'src_id': 'mp-1226170', 'formula': 'CrRh'}, 3620: {'src_id': 'mp-1215462', 'formula': 'CuZn'}, 3622: {'src_id': 'mp-1216352', 'formula': 'Fe3V'}, 3627: {'src_id': 'mp-1183227', 'formula': 'AgAu'}, 3634: {'src_id': 'mp-1187974', 'formula': 'AgZn'}, 3639: {'src_id': 'mp-1187204', 'formula': 'PtTa3'}, 3640: {'src_id': 'mp-1206704', 'formula': 'MoPd2'}, 3653: {'src_id': 'mp-1185970', 'formula': 'Co2Mn6'}, 3659: {'src_id': 'mp-1186229', 'formula': 'Nb2Ru6'}, 3669: {'src_id': 'mp-1223860', 'formula': 'IrRu'}, 3672: {'src_id': 'mp-974335', 'formula': 'Rh3Ru'}, 3673: {'src_id': 'mp-974341', 'formula': 'Rh6Ru2'}, 3674: {'src_id': 'mp-1219503', 'formula': 'RhRu'}, 3675: {'src_id': 'mp-1186926', 'formula': 'Rh2Ru6'}, 3676: {'src_id': 'mp-1219522', 'formula': 'Rh4Ru'}, 3677: {'src_id': 'mp-1224803', 'formula': 'FeRu'}, 3678: {'src_id': 'mp-1219922', 'formula': 'NiRu'}, 3679: {'src_id': 'mp-1220081', 'formula': 'Ni4Ru'}, 3680: {'src_id': 'mp-1226024', 'formula': 'Co4Ru'}, 3681: {'src_id': 'mp-1183807', 'formula': 'Co6Ru2'}, 3682: {'src_id': 'mp-1225997', 'formula': 'CoRu'}, 3683: {'src_id': 'mp-1120769', 'formula': 'PtRu'}, 3684: {'src_id': 'mp-1220057', 'formula': 'NiPd'}, 3685: {'src_id': 'mp-973983', 'formula': 'Ni2Pd6'}, 3686: {'src_id': 'mp-1184026', 'formula': 'Cu6Ru2'}, 3687: {'src_id': 'mp-1184121', 'formula': 'CuRu3'}, 3688: {'src_id': 'mp-1186014', 'formula': 'Mo3Pd'}, 3689: {'src_id': 'mp-1221422', 'formula': 'MoPd'}, 3690: {'src_id': 'mp-1221413', 'formula': 'MoPd'}, 3696: {'src_id': 'mp-1184011', 'formula': 'AgCu3'}, 3697: {'src_id': 'mp-1220052', 'formula': 'NiPt'}, 3698: {'src_id': 'mp-1186117', 'formula': 'NiPt3'}, 3699: {'src_id': 'mp-1183837', 'formula': 'Co6Ni2'}, 3705: {'src_id': 'mp-1186923', 'formula': 'Re6Rh2'}, 3722: {'src_id': 'mp-30708', 'formula': 'Hf2Ni4'}, 3725: {'src_id': 'mp-1186010', 'formula': 'Au6Mn2'}, 3743: {'src_id': 'mp-1221425', 'formula': 'MoPt3'}, 3756: {'src_id': 'mp-569516', 'formula': 'HfNi5'}, 3763: {'src_id': 'mp-1219734', 'formula': 'PtRh'}, 3779: {'src_id': 'mp-1221420', 'formula': 'MoPt3'}, 3782: {'src_id': 'mp-1183206', 'formula': 'Ag6Pd2'}, 3786: {'src_id': 'mp-1229032', 'formula': 'AgPt4'}, 3788: {'src_id': 'mp-1183205', 'formula': 'Ag6Au2'}, 3789: {'src_id': 'mp-1225078', 'formula': 'FeNi3'}, 3813: {'src_id': 'mp-328', 'formula': 'Ni2Zr4'}, 3814: {'src_id': 'mp-974411', 'formula': 'Re6Tc2'}, 3817: {'src_id': 'mp-867357', 'formula': 'Ni2Tc6'}, 3820: {'src_id': 'mp-556', 'formula': 'Ni2Zr2'}, 3824: {'src_id': 'mp-1220441', 'formula': 'Nb4Rh'}, 3829: {'src_id': 'mp-1187948', 'formula': 'Ni2Zn6'}, 3831: {'src_id': 'mp-1219539', 'formula': 'Re3Rh'}, 3840: {'src_id': 'mp-1157', 'formula': 'Ni2Ta'}, 3845: {'src_id': 'mp-861', 'formula': 'Hf4Ni2'}, 3861: {'src_id': 'mp-1215582', 'formula': 'Ni4Zn'}, 3870: {'src_id': 'mp-1219533', 'formula': 'IrRe'}, 3898: {'src_id': 'mp-1184771', 'formula': 'Ir3Rh'}, 3900: {'src_id': 'mp-1220390', 'formula': 'Au4Nb'}, 3906: {'src_id': 'mp-1186902', 'formula': 'IrRe3'}, 3907: {'src_id': 'mp-2439', 'formula': 'Ni5Zr'}, 3911: {'src_id': 'mp-1217894', 'formula': 'ReTa'}, 3916: {'src_id': 'mp-891', 'formula': 'Ni6Ta2'}, 3928: {'src_id': 'mp-1220322', 'formula': 'NbRe'}, 3939: {'src_id': 'mp-1219509', 'formula': 'OsRe'}, 3941: {'src_id': 'mp-570491', 'formula': 'Ni3Ta'}, 3956: {'src_id': 'mp-1220316', 'formula': 'NbW'}, 3957: {'src_id': 'mp-485', 'formula': 'Ni6Zr2'}, 3983: {'src_id': 'mp-1867', 'formula': 'Ni2Ta4'}, 3995: {'src_id': 'mp-1219535', 'formula': 'Ir3Re'}, 4009: {'src_id': 'mp-2250', 'formula': 'Ni4Zr2'}, 4026: {'src_id': 'mp-1018056', 'formula': 'Hf2Ni2'}}\n",
            "Unary bulk info: 66\n",
            "Binary bulk info: 581\n"
          ]
        }
      ]
    },
    {
      "cell_type": "markdown",
      "source": [
        "for loop로 Slab 짜는 코드. 일단 111만 만들도록 짜놓음. 잘돌아가는지까지만 확인함. 여러 termination이 있는경우엔.. 어떻게 걸러낼지 모르겠당."
      ],
      "metadata": {
        "id": "4WLIScMETxiN"
      }
    },
    {
      "cell_type": "code",
      "source": [
        "from ocdata.core.bulk import Bulk\n",
        "from ocdata.core.slab import Slab\n",
        "\n",
        "def generate_slabs_for_bulk(bulk_info_dict, bulk_db_path, max_miller_index, num_entries=None):\n",
        "    all_slabs = {}\n",
        "\n",
        "    # Generate slabs for the first 10 binary bulks # 이거 일단 10개 테스트용으로 짠거라 num entries를 없애면됨.\n",
        "    items_to_process = list(bulk_info_dict.items())[:num_entries]\n",
        "\n",
        "    for bulk_id, bulk_info in items_to_process:\n",
        "        bulk_src_id = bulk_info['src_id']\n",
        "        # Initialize the Bulk object\n",
        "        if bulk_src_id is not None:\n",
        "            bulk_obj = Bulk(bulk_src_id_from_db=bulk_src_id, bulk_db_path=bulk_db_path)\n",
        "        else:\n",
        "            bulk_obj = Bulk(bulk_id_from_db=bulk_id, bulk_db_path=bulk_db_path)\n",
        "\n",
        "        specific_millers = (1, 1, 1)\n",
        "        slabs = Slab.from_bulk_get_specific_millers(specific_millers, bulk=bulk_obj, min_ab=5.0)\n",
        "        all_slabs[bulk_id] = (slabs[0].atoms, bulk_obj)  # atoms형태로 이렇게 바꿀수있음. test용으로 first_10_binary_bulk_slabs이걸로 돌려보는겨 일단 여러 termaination slab중에서 첫번째꺼만 해봄.\n",
        "        print(f\"Number of slabs generated from bulk ID {bulk_id} ({bulk_info['formula']}): {len(slabs)}\")# len slabs가 termination 갯수임. 이중에서 첫번째꺼만 가져온거임.all_slabs[bulk_id] = slabs[0].atoms\n",
        "        print(slabs[0].atoms)  # Print the first slab atoms\n",
        "\n",
        "    return all_slabs\n",
        "\n",
        "max_miller_index = 1\n",
        "\n",
        "# Generate slabs for the first 10 binary bulks # 이거 일단 10개 테스트용으로 짠거라 num entries를 없애면됨.\n",
        "print(\"Generating slabs for first 10 binary bulks...\")\n",
        "first_10_binary_bulk_slabs = generate_slabs_for_bulk(binary_bulk_info, bulk_db_path, max_miller_index, num_entries=10)\n"
      ],
      "metadata": {
        "colab": {
          "base_uri": "https://localhost:8080/"
        },
        "id": "2rMG1ewFhhpw",
        "outputId": "5474775a-256e-40e4-e9b2-71c2cfc4a735"
      },
      "execution_count": 50,
      "outputs": [
        {
          "output_type": "stream",
          "name": "stdout",
          "text": [
            "Generating slabs for first 10 binary bulks...\n",
            "Number of slabs generated from bulk ID 239 (Pt2V): 3\n",
            "Atoms(symbols='V4Pt8V4Pt8V4Pt8V4Pt8', pbc=True, cell=[[8.940824000508993, 0.0, -3.0315669752663474], [2.2352060001272482, 8.454731993600122, 1.602308620209781], [0.0, 0.0, 33.04280509636915]], bulk_equivalent=..., bulk_wyckoff=..., tags=..., constraint=FixAtoms(indices=[0, 1, 2, 3, 4, 5, 6, 7, 8, 9, 10, 11, 15, 17, 18, 20, 23, 24, 25, 26, 27, 28, 29, 30, 31, 32, 33, 34, 35, 39, 41, 42, 44, 47]))\n",
            "Number of slabs generated from bulk ID 240 (Pd2V): 3\n",
            "Atoms(symbols='V4Pd8V4Pd8V4Pd8V4Pd8', pbc=True, cell=[[8.94696842535961, 0.0, -2.987064418591685], [2.236742106339903, 8.36907483597483, 1.6113422188446385], [0.0, 0.0, 33.01351652889585]], bulk_equivalent=..., bulk_wyckoff=..., tags=..., constraint=FixAtoms(indices=[0, 1, 2, 3, 4, 5, 6, 7, 8, 9, 10, 11, 15, 17, 18, 20, 23, 24, 25, 26, 27, 28, 29, 30, 31, 32, 33, 34, 35, 39, 41, 42, 44, 47]))\n",
            "Number of slabs generated from bulk ID 244 (OsV): 2\n",
            "Atoms(symbols='V3Os3V3Os3V3Os3V3Os3V3Os3V3Os3V3Os3V3Os3', pbc=True, cell=[[8.555799606175656, 0.0, 5.238916300924601e-16], [4.277899803087827, 7.409539808637016, 5.238916300924602e-16], [0.0, 0.0, 31.436015064953445]], bulk_equivalent=..., bulk_wyckoff=..., tags=..., constraint=FixAtoms(indices=[0, 1, 2, 3, 4, 5, 7, 9, 11, 12, 13, 14, 15, 16, 17, 19, 21, 23, 24, 25, 26, 27, 28, 29, 31, 33, 35, 36, 37, 38, 39, 40, 41, 43, 45, 47]))\n",
            "Number of slabs generated from bulk ID 249 (ReV3): 4\n",
            "Atoms(symbols='Re3V9Re3V9Re3V9Re3V9', pbc=True, cell=[[8.529215219630167, 0.0, 5.222638058979487e-16], [-4.264607609815081, 7.386517054544597, 5.222638058979487e-16], [0.0, 0.0, 31.338337791711403]], bulk_equivalent=..., bulk_wyckoff=..., tags=..., constraint=FixAtoms(indices=[1, 2, 3, 5, 6, 7, 8, 9, 10, 13, 14, 15, 17, 18, 19, 20, 21, 22, 25, 26, 27, 29, 30, 31, 32, 33, 34, 37, 38, 39, 41, 42, 43, 44, 45, 46]))\n",
            "Number of slabs generated from bulk ID 250 (Rh6W2): 1\n",
            "Atoms(symbols='Rh18W6', pbc=True, cell=[[9.5572843826903, 0.0, 5.852148863901332e-16], [4.778642191345148, 5.15142218665968, -0.5713993830416476], [0.0, 0.0, 28.19902664789803]], bulk_equivalent=..., bulk_wyckoff=..., tags=..., constraint=FixAtoms(indices=[0, 2, 3, 5, 7, 8, 9, 10, 12, 14, 15, 17, 18, 20, 21, 23]))\n",
            "Number of slabs generated from bulk ID 251 (Co2Re6): 1\n",
            "Atoms(symbols='Co6Re18Co6Re18', pbc=True, cell=[[9.404715817334596, 0.0, 5.758727561294648e-16], [4.702357908667296, 5.102204203652564, -0.6175143934193755], [0.0, 0.0, 34.8302963176657]], bulk_equivalent=..., bulk_wyckoff=..., tags=..., constraint=FixAtoms(indices=[0, 1, 2, 3, 4, 5, 6, 7, 8, 9, 10, 11, 12, 13, 14, 15, 16, 17, 18, 19, 20, 21, 22, 23, 24, 26, 27, 28]))\n",
            "Number of slabs generated from bulk ID 254 (PtRh3): 2\n",
            "Atoms(symbols='Pt4Rh12Pt4Rh12', pbc=True, cell=[[5.49615840690786, 0.0, -8.838496820359188e-16], [2.748079203453933, 7.749706239999998, 2.7480792034539316], [0.0, 0.0, 32.97695044144716]], bulk_equivalent=..., bulk_wyckoff=..., tags=..., constraint=FixAtoms(indices=[0, 1, 2, 3, 4, 5, 6, 7, 8, 9, 10, 11, 12, 13, 14, 15, 17, 19, 20, 22, 24, 27, 29, 30]))\n",
            "Number of slabs generated from bulk ID 255 (Ir4V4): 4\n",
            "Atoms(symbols='Ir12V12', pbc=True, cell=[[5.256238639132059, 0.0, -0.29316667122306833], [-0.5718507779403733, 6.606060628530537, -0.5587456563395181], [0.0, 0.0, 38.77628434149093]], bulk_equivalent=..., bulk_wyckoff=..., tags=..., constraint=FixAtoms(indices=[0, 3, 5, 8, 9, 11, 12, 14, 15, 17, 18, 21, 22]))\n",
            "Number of slabs generated from bulk ID 259 (Ni2Re6): 1\n",
            "Atoms(symbols='Re18Ni6Re18Ni6', pbc=True, cell=[[9.406348528420718, 0.0, 5.759727308497424e-16], [4.70317426421036, 5.116281522597256, -0.6399233285489362], [0.0, 0.0, 34.894729775577105]], bulk_equivalent=..., bulk_wyckoff=..., tags=..., constraint=FixAtoms(indices=[0, 1, 2, 3, 4, 5, 6, 7, 8, 9, 10, 11, 12, 13, 14, 15, 16, 17, 18, 19, 20, 21, 22, 23, 24, 26, 27, 29, 31, 32, 33, 35, 36, 38, 39, 40, 42, 44, 45, 47]))\n",
            "Number of slabs generated from bulk ID 261 (Co2V6): 2\n",
            "Atoms(symbols='V18Co6', pbc=True, cell=[[6.584106861749569, 0.0, 4.031602696742867e-16], [3.2920534308747835, 5.702003803506565, 4.0316026967428676e-16], [0.0, 0.0, 32.25540444648783]], bulk_equivalent=..., bulk_wyckoff=..., tags=..., constraint=FixAtoms(indices=[0, 1, 3, 5, 6, 7, 9, 11, 12, 13, 15, 17, 18, 20, 22, 23]))\n"
          ]
        }
      ]
    },
    {
      "cell_type": "markdown",
      "source": [
        "ready adsorbate OH and H"
      ],
      "metadata": {
        "id": "TQjkMDnhZj4l"
      }
    },
    {
      "cell_type": "code",
      "source": [
        "for bulk_id, (slab_atoms, corresponding_bulk) in first_10_binary_bulk_slabs.items():\n",
        "  print(bulk_id)\n",
        "  print(slab_atoms)\n",
        "  print(corresponding_bulk)"
      ],
      "metadata": {
        "colab": {
          "base_uri": "https://localhost:8080/"
        },
        "id": "jLkl0gHAfEhp",
        "outputId": "90214a5a-fb53-4e2f-d800-224efe1b9c61"
      },
      "execution_count": 54,
      "outputs": [
        {
          "output_type": "stream",
          "name": "stdout",
          "text": [
            "239\n",
            "Atoms(symbols='V4Pt8V4Pt8V4Pt8V4Pt8', pbc=True, cell=[[8.940824000508993, 0.0, -3.0315669752663474], [2.2352060001272482, 8.454731993600122, 1.602308620209781], [0.0, 0.0, 33.04280509636915]], bulk_equivalent=..., bulk_wyckoff=..., tags=..., constraint=FixAtoms(indices=[0, 1, 2, 3, 4, 5, 6, 7, 8, 9, 10, 11, 15, 17, 18, 20, 23, 24, 25, 26, 27, 28, 29, 30, 31, 32, 33, 34, 35, 39, 41, 42, 44, 47]))\n",
            "Bulk: (Pt2V)\n",
            "240\n",
            "Atoms(symbols='V4Pd8V4Pd8V4Pd8V4Pd8', pbc=True, cell=[[8.94696842535961, 0.0, -2.987064418591685], [2.236742106339903, 8.36907483597483, 1.6113422188446385], [0.0, 0.0, 33.01351652889585]], bulk_equivalent=..., bulk_wyckoff=..., tags=..., constraint=FixAtoms(indices=[0, 1, 2, 3, 4, 5, 6, 7, 8, 9, 10, 11, 15, 17, 18, 20, 23, 24, 25, 26, 27, 28, 29, 30, 31, 32, 33, 34, 35, 39, 41, 42, 44, 47]))\n",
            "Bulk: (Pd2V)\n",
            "244\n",
            "Atoms(symbols='V3Os3V3Os3V3Os3V3Os3V3Os3V3Os3V3Os3V3Os3', pbc=True, cell=[[8.555799606175656, 0.0, 5.238916300924601e-16], [4.277899803087827, 7.409539808637016, 5.238916300924602e-16], [0.0, 0.0, 31.436015064953445]], bulk_equivalent=..., bulk_wyckoff=..., tags=..., constraint=FixAtoms(indices=[0, 1, 2, 3, 4, 5, 7, 9, 11, 12, 13, 14, 15, 16, 17, 19, 21, 23, 24, 25, 26, 27, 28, 29, 31, 33, 35, 36, 37, 38, 39, 40, 41, 43, 45, 47]))\n",
            "Bulk: (OsV)\n",
            "249\n",
            "Atoms(symbols='Re3V9Re3V9Re3V9Re3V9', pbc=True, cell=[[8.529215219630167, 0.0, 5.222638058979487e-16], [-4.264607609815081, 7.386517054544597, 5.222638058979487e-16], [0.0, 0.0, 31.338337791711403]], bulk_equivalent=..., bulk_wyckoff=..., tags=..., constraint=FixAtoms(indices=[1, 2, 3, 5, 6, 7, 8, 9, 10, 13, 14, 15, 17, 18, 19, 20, 21, 22, 25, 26, 27, 29, 30, 31, 32, 33, 34, 37, 38, 39, 41, 42, 43, 44, 45, 46]))\n",
            "Bulk: (ReV3)\n",
            "250\n",
            "Atoms(symbols='Rh18W6', pbc=True, cell=[[9.5572843826903, 0.0, 5.852148863901332e-16], [4.778642191345148, 5.15142218665968, -0.5713993830416476], [0.0, 0.0, 28.19902664789803]], bulk_equivalent=..., bulk_wyckoff=..., tags=..., constraint=FixAtoms(indices=[0, 2, 3, 5, 7, 8, 9, 10, 12, 14, 15, 17, 18, 20, 21, 23]))\n",
            "Bulk: (Rh6W2)\n",
            "251\n",
            "Atoms(symbols='Co6Re18Co6Re18', pbc=True, cell=[[9.404715817334596, 0.0, 5.758727561294648e-16], [4.702357908667296, 5.102204203652564, -0.6175143934193755], [0.0, 0.0, 34.8302963176657]], bulk_equivalent=..., bulk_wyckoff=..., tags=..., constraint=FixAtoms(indices=[0, 1, 2, 3, 4, 5, 6, 7, 8, 9, 10, 11, 12, 13, 14, 15, 16, 17, 18, 19, 20, 21, 22, 23, 24, 26, 27, 28]))\n",
            "Bulk: (Co2Re6)\n",
            "254\n",
            "Atoms(symbols='Pt4Rh12Pt4Rh12', pbc=True, cell=[[5.49615840690786, 0.0, -8.838496820359188e-16], [2.748079203453933, 7.749706239999998, 2.7480792034539316], [0.0, 0.0, 32.97695044144716]], bulk_equivalent=..., bulk_wyckoff=..., tags=..., constraint=FixAtoms(indices=[0, 1, 2, 3, 4, 5, 6, 7, 8, 9, 10, 11, 12, 13, 14, 15, 17, 19, 20, 22, 24, 27, 29, 30]))\n",
            "Bulk: (PtRh3)\n",
            "255\n",
            "Atoms(symbols='Ir12V12', pbc=True, cell=[[5.256238639132059, 0.0, -0.29316667122306833], [-0.5718507779403733, 6.606060628530537, -0.5587456563395181], [0.0, 0.0, 38.77628434149093]], bulk_equivalent=..., bulk_wyckoff=..., tags=..., constraint=FixAtoms(indices=[0, 3, 5, 8, 9, 11, 12, 14, 15, 17, 18, 21, 22]))\n",
            "Bulk: (Ir4V4)\n",
            "259\n",
            "Atoms(symbols='Re18Ni6Re18Ni6', pbc=True, cell=[[9.406348528420718, 0.0, 5.759727308497424e-16], [4.70317426421036, 5.116281522597256, -0.6399233285489362], [0.0, 0.0, 34.894729775577105]], bulk_equivalent=..., bulk_wyckoff=..., tags=..., constraint=FixAtoms(indices=[0, 1, 2, 3, 4, 5, 6, 7, 8, 9, 10, 11, 12, 13, 14, 15, 16, 17, 18, 19, 20, 21, 22, 23, 24, 26, 27, 29, 31, 32, 33, 35, 36, 38, 39, 40, 42, 44, 45, 47]))\n",
            "Bulk: (Ni2Re6)\n",
            "261\n",
            "Atoms(symbols='V18Co6', pbc=True, cell=[[6.584106861749569, 0.0, 4.031602696742867e-16], [3.2920534308747835, 5.702003803506565, 4.0316026967428676e-16], [0.0, 0.0, 32.25540444648783]], bulk_equivalent=..., bulk_wyckoff=..., tags=..., constraint=FixAtoms(indices=[0, 1, 3, 5, 6, 7, 9, 11, 12, 13, 15, 17, 18, 20, 22, 23]))\n",
            "Bulk: (Co2V6)\n"
          ]
        }
      ]
    },
    {
      "cell_type": "code",
      "source": [
        "import pickle\n",
        "from ocdata.core import Adsorbate, Slab\n",
        "from ocdata.core.adsorbate_slab_config import AdsorbateSlabConfig\n",
        "\n",
        "# Load the hydrogen adsorbate from the adsorbate database\n",
        "adsorbates_pkl_path = '/content/ocp/Open-Catalyst-Dataset/ocdata/databases/pkls/adsorbates.pkl'\n",
        "with open(adsorbates_pkl_path, 'rb') as file:\n",
        "    adsorbates_db = pickle.load(file)\n",
        "print(adsorbates_db)\n",
        "hydrogen_adsorbate = Adsorbate(adsorbate_id_from_db=1, adsorbate_db_path=adsorbates_pkl_path)\n",
        "\n",
        "# Assuming first_10_binary_bulk_slabs contains both slab atoms and bulk objects\n",
        "binary_bulk_adslabs = {}\n",
        "\n",
        "for bulk_id, (slab_atoms, corresponding_bulk) in first_10_binary_bulk_slabs.items():\n",
        "    adslabs = []\n",
        "    # Create AdsorbateSlabConfig for the slab\n",
        "    adslab_config = AdsorbateSlabConfig(\n",
        "        slab=Slab(bulk=corresponding_bulk, slab_atoms=slab_atoms),\n",
        "        adsorbate=hydrogen_adsorbate,\n",
        "        mode=\"heuristic\", #num_sites=1,  # Number of sites to sample (can be adjusted)\n",
        "        num_augmentations_per_site=1,  # Number of augmentations per site\n",
        "        interstitial_gap=0.1  # Gap between adsorbate and slab\n",
        "    )\n",
        "    adslabs.extend(adslab_config.atoms_list)\n",
        "\n",
        "    binary_bulk_adslabs[bulk_id] = adslabs\n",
        "    print(f\"Generated {len(adslabs)} adslabs for bulk ID {bulk_id}\")\n"
      ],
      "metadata": {
        "colab": {
          "base_uri": "https://localhost:8080/"
        },
        "id": "EoC_mTYxb1F0",
        "outputId": "0735bef4-da53-4566-f36b-c668bb144a3b"
      },
      "execution_count": 52,
      "outputs": [
        {
          "output_type": "stream",
          "name": "stdout",
          "text": [
            "{0: (Atoms(symbols='O', pbc=False), '*O', array([0]), '-H<sub>2(g)</sub> + H<sub>2</sub>O<sub>(g)</sub> + * &rarr; *O'), 1: (Atoms(symbols='H', pbc=False), '*H', array([0]), '0.5 H<sub>2(g)</sub> + * &rarr; *H'), 2: (Atoms(symbols='OH', pbc=False), '*OH', array([0]), '- -0.5 H<sub>2(g)</sub> + H<sub>2</sub>O<sub>(g)</sub> + * &rarr; *OH'), 3: (Atoms(symbols='H2O', pbc=False), '*OH2', array([2]), 'H<sub>2</sub>O<sub>(g)</sub> + * &rarr; *OH2'), 4: (Atoms(symbols='C', pbc=False), '*C', array([0]), 'CO<sub>(g)</sub> + H<sub>2(g)</sub> - H<sub>2</sub>O<sub>(g)</sub> + * &rarr; *C'), 5: (Atoms(symbols='CO', pbc=False), '*CO', array([0]), 'CO<sub>(g)</sub> + * &rarr; *CO'), 6: (Atoms(symbols='CH', pbc=False), '*CH', array([0]), 'CO<sub>(g)</sub> + 1.5 H<sub>2(g)</sub> - H<sub>2</sub>O<sub>(g)</sub> + * &rarr; *CH'), 7: (Atoms(symbols='CHO', pbc=False), '*CHO', array([0]), 'CO<sub>(g)</sub> + 0.5 H<sub>2(g)</sub> + * &rarr; *CHO'), 8: (Atoms(symbols='CHO', pbc=False), '*COH', array([0]), 'CO<sub>(g)</sub> + 0.5 H<sub>2(g)</sub> + * &rarr; *COH'), 9: (Atoms(symbols='CH2', pbc=False), '*CH2', array([0]), 'CO<sub>(g)</sub> + 2.0 H<sub>2(g)</sub> - H<sub>2</sub>O<sub>(g)</sub> + * &rarr; *CH2'), 10: (Atoms(symbols='CH2O', pbc=False), '*CH2*O', array([0, 3]), 'CO<sub>(g)</sub> + H<sub>2(g)</sub> + * &rarr; *CH2*O'), 11: (Atoms(symbols='CH2O', pbc=False), '*CHOH', array([0]), 'CO<sub>(g)</sub> + H<sub>2(g)</sub> + * &rarr; *CHOH'), 12: (Atoms(symbols='CH3', pbc=False), '*CH3', array([0]), 'CO<sub>(g)</sub> + 2.5 H<sub>2(g)</sub> - H<sub>2</sub>O<sub>(g)</sub> + * &rarr; *CH3'), 13: (Atoms(symbols='CH3O', pbc=False), '*OCH3', array([4]), 'CO<sub>(g)</sub> + 1.5 H<sub>2(g)</sub> + * &rarr; *OCH3'), 14: (Atoms(symbols='CH3O', pbc=False), '*CH2OH', array([0]), 'CO<sub>(g)</sub> + 1.5 H<sub>2(g)</sub> + * &rarr; *CH2OH'), 15: (Atoms(symbols='CH4', pbc=False), '*CH4', array([0]), 'CO<sub>(g)</sub> + 3.0 H<sub>2(g)</sub> - H<sub>2</sub>O<sub>(g)</sub> + * &rarr; *CH4'), 16: (Atoms(symbols='CH4O', pbc=False), '*OHCH3', array([5]), 'CO<sub>(g)</sub> + 2.0 H<sub>2(g)</sub> + * &rarr; *OHCH3'), 17: (Atoms(symbols='C2', pbc=False), '*C*C', array([0, 1]), '2 CO<sub>(g)</sub> + 2.0 H<sub>2(g)</sub> - -2 H<sub>2</sub>O<sub>(g)</sub> + * &rarr; *C*C'), 18: (Atoms(symbols='C2O', pbc=False), '*CCO', array([1]), '2 CO<sub>(g)</sub> + H<sub>2(g)</sub> - H<sub>2</sub>O<sub>(g)</sub> + * &rarr; *CCO'), 19: (Atoms(symbols='C2H', pbc=False), '*CCH', array([0]), '2 CO<sub>(g)</sub> + 2.5 H<sub>2(g)</sub> - -2 H<sub>2</sub>O<sub>(g)</sub> + * &rarr; *CCH'), 20: (Atoms(symbols='C2HO', pbc=False), '*CHCO', array([1]), '2 CO<sub>(g)</sub> + 1.5 H<sub>2(g)</sub> - H<sub>2</sub>O<sub>(g)</sub> + * &rarr; *CHCO'), 21: (Atoms(symbols='C2HO', pbc=False), '*CCHO', array([1]), '2 CO<sub>(g)</sub> + 1.5 H<sub>2(g)</sub> - H<sub>2</sub>O<sub>(g)</sub> + * &rarr; *CCHO'), 22: (Atoms(symbols='C2HO2', pbc=False), '*COCHO', array([0]), '2 CO<sub>(g)</sub> + 0.5 H<sub>2(g)</sub> + * &rarr; *COCHO'), 23: (Atoms(symbols='C2H2O', pbc=False), '*CCHOH', array([1]), '2 CO<sub>(g)</sub> + 2.0 H<sub>2(g)</sub> - H<sub>2</sub>O<sub>(g)</sub> + * &rarr; *CCHOH'), 24: (Atoms(symbols='C2H2', pbc=False), '*CCH2', array([0]), '2 CO<sub>(g)</sub> + 3.0 H<sub>2(g)</sub> - -2 H<sub>2</sub>O<sub>(g)</sub> + * &rarr; *CCH2'), 25: (Atoms(symbols='C2H2', pbc=False), '*CH*CH', array([0, 1]), '2 CO<sub>(g)</sub> + 3.0 H<sub>2(g)</sub> - -2 H<sub>2</sub>O<sub>(g)</sub> + * &rarr; *CH*CH'), 26: (Atoms(symbols='C2H2O', pbc=False), 'CH2*CO', array([1]), '2 CO<sub>(g)</sub> + 2.0 H<sub>2(g)</sub> - H<sub>2</sub>O<sub>(g)</sub> + * &rarr; CH2*CO'), 27: (Atoms(symbols='C2H2O', pbc=False), '*CHCHO', array([1]), '2 CO<sub>(g)</sub> + 2.0 H<sub>2(g)</sub> - H<sub>2</sub>O<sub>(g)</sub> + * &rarr; *CHCHO'), 28: (Atoms(symbols='C2H2O', pbc=False), 'CH*COH', array([0]), '2 CO<sub>(g)</sub> + 2.0 H<sub>2(g)</sub> - H<sub>2</sub>O<sub>(g)</sub> + * &rarr; CH*COH'), 29: (Atoms(symbols='C2H2O2', pbc=False), '*COCH2O', array([1]), '2 CO<sub>(g)</sub> + H<sub>2(g)</sub> + * &rarr; *COCH2O'), 30: (Atoms(symbols='C2H2O2', pbc=False), '*CHO*CHO', array([0, 1]), '2 CO<sub>(g)</sub> + H<sub>2(g)</sub> + * &rarr; *CHO*CHO'), 31: (Atoms(symbols='C2H2O2', pbc=False), '*COHCHO', array([1]), '2 CO<sub>(g)</sub> + H<sub>2(g)</sub> + * &rarr; *COHCHO'), 32: (Atoms(symbols='C2H2O2', pbc=False), '*COHCOH', array([0]), '2 CO<sub>(g)</sub> + H<sub>2(g)</sub> + * &rarr; *COHCOH'), 33: (Atoms(symbols='C2H3', pbc=False), '*CCH3', array([0]), '2 CO<sub>(g)</sub> + 3.5 H<sub>2(g)</sub> - -2 H<sub>2</sub>O<sub>(g)</sub> + * &rarr; *CCH3'), 34: (Atoms(symbols='C2H3', pbc=False), '*CHCH2', array([0]), '2 CO<sub>(g)</sub> + 3.5 H<sub>2(g)</sub> - -2 H<sub>2</sub>O<sub>(g)</sub> + * &rarr; *CHCH2'), 35: (Atoms(symbols='C2H3O', pbc=False), '*COCH3', array([0]), '2 CO<sub>(g)</sub> + 2.5 H<sub>2(g)</sub> - H<sub>2</sub>O<sub>(g)</sub> + * &rarr; *COCH3'), 36: (Atoms(symbols='C2H3O', pbc=False), '*OCHCH2', array([5]), '2 CO<sub>(g)</sub> + 2.5 H<sub>2(g)</sub> - H<sub>2</sub>O<sub>(g)</sub> + * &rarr; *OCHCH2'), 37: (Atoms(symbols='C2H3O', pbc=False), '*COHCH2', array([0]), '2 CO<sub>(g)</sub> + 2.5 H<sub>2(g)</sub> - H<sub>2</sub>O<sub>(g)</sub> + * &rarr; *COHCH2'), 38: (Atoms(symbols='C2H3O', pbc=False), '*CHCHOH', array([1]), '2 CO<sub>(g)</sub> + 2.5 H<sub>2(g)</sub> - H<sub>2</sub>O<sub>(g)</sub> + * &rarr; *CHCHOH'), 39: (Atoms(symbols='C2H3O', pbc=False), '*CCH2OH', array([1]), '2 CO<sub>(g)</sub> + 2.5 H<sub>2(g)</sub> - H<sub>2</sub>O<sub>(g)</sub> + * &rarr; *CCH2OH'), 40: (Atoms(symbols='C2H3O2', pbc=False), '*CHOCHOH', array([0]), '2 CO<sub>(g)</sub> + 1.5 H<sub>2(g)</sub> + * &rarr; *CHOCHOH'), 41: (Atoms(symbols='C2H3O2', pbc=False), '*COCH2OH', array([1]), '2 CO<sub>(g)</sub> + 1.5 H<sub>2(g)</sub> + * &rarr; *COCH2OH'), 42: (Atoms(symbols='C2H3O2', pbc=False), '*COHCHOH', array([1]), '2 CO<sub>(g)</sub> + 1.5 H<sub>2(g)</sub> + * &rarr; *COHCHOH'), 43: (Atoms(symbols='C2H4', pbc=False), '*CH2*CH2', array([0, 1]), '2 CO<sub>(g)</sub> + 4.0 H<sub>2(g)</sub> - -2 H<sub>2</sub>O<sub>(g)</sub> + * &rarr; *CH2*CH2'), 44: (Atoms(symbols='C2H4O', pbc=False), '*OCHCH3', array([6]), '2 CO<sub>(g)</sub> + 3.0 H<sub>2(g)</sub> - H<sub>2</sub>O<sub>(g)</sub> + * &rarr; *OCHCH3'), 45: (Atoms(symbols='C2H4O', pbc=False), '*COHCH3', array([0]), '2 CO<sub>(g)</sub> + 3.0 H<sub>2(g)</sub> - H<sub>2</sub>O<sub>(g)</sub> + * &rarr; *COHCH3'), 46: (Atoms(symbols='C2H4O', pbc=False), '*CHOHCH2', array([0]), '2 CO<sub>(g)</sub> + 3.0 H<sub>2(g)</sub> - H<sub>2</sub>O<sub>(g)</sub> + * &rarr; *CHOHCH2'), 47: (Atoms(symbols='C2H4O', pbc=False), '*CHCH2OH', array([1]), '2 CO<sub>(g)</sub> + 3.0 H<sub>2(g)</sub> - H<sub>2</sub>O<sub>(g)</sub> + * &rarr; *CHCH2OH'), 48: (Atoms(symbols='C2H4O2', pbc=False), '*OCH2CHOH', array([7]), '2 CO<sub>(g)</sub> + 2.0 H<sub>2(g)</sub> + * &rarr; *OCH2CHOH'), 49: (Atoms(symbols='C2H4O2', pbc=False), '*CHOCH2OH', array([1]), '2 CO<sub>(g)</sub> + 2.0 H<sub>2(g)</sub> + * &rarr; *CHOCH2OH'), 50: (Atoms(symbols='C2H4O2', pbc=False), '*COHCH2OH', array([1]), '2 CO<sub>(g)</sub> + 2.0 H<sub>2(g)</sub> + * &rarr; *COHCH2OH'), 51: (Atoms(symbols='C2H4O2', pbc=False), '*CHOHCHOH', array([0]), '2 CO<sub>(g)</sub> + 2.0 H<sub>2(g)</sub> + * &rarr; *CHOHCHOH'), 52: (Atoms(symbols='C2H5', pbc=False), '*CH2CH3', array([0]), '2 CO<sub>(g)</sub> + 4.5 H<sub>2(g)</sub> - -2 H<sub>2</sub>O<sub>(g)</sub> + * &rarr; *CH2CH3'), 53: (Atoms(symbols='C2H5O', pbc=False), '*OCH2CH3', array([7]), '2 CO<sub>(g)</sub> + 3.5 H<sub>2(g)</sub> - H<sub>2</sub>O<sub>(g)</sub> + * &rarr; *OCH2CH3'), 54: (Atoms(symbols='C2H5O', pbc=False), '*CHOHCH3', array([0]), '2 CO<sub>(g)</sub> + 3.5 H<sub>2(g)</sub> - H<sub>2</sub>O<sub>(g)</sub> + * &rarr; *CHOHCH3'), 55: (Atoms(symbols='C2H5O', pbc=False), '*CH2CH2OH', array([1]), '2 CO<sub>(g)</sub> + 3.5 H<sub>2(g)</sub> - H<sub>2</sub>O<sub>(g)</sub> + * &rarr; *CH2CH2OH'), 56: (Atoms(symbols='C2H5O2', pbc=False), '*CHOHCH2OH', array([1]), '2 CO<sub>(g)</sub> + 2.5 H<sub>2(g)</sub> + * &rarr; *CHOHCH2OH'), 57: (Atoms(symbols='C2H6O', pbc=False), '*OHCH2CH3', array([8]), '2 CO<sub>(g)</sub> + 4.0 H<sub>2(g)</sub> - H<sub>2</sub>O<sub>(g)</sub> + * &rarr; *OHCH2CH3'), 58: (Atoms(symbols='NCH3CH3NH2', pbc=False), '*NH2N(CH3)2', array([9]), '2 CO<sub>(g)</sub> + 6.0 H<sub>2(g)</sub> - -2 H<sub>2</sub>O<sub>(g)</sub> + N<sub>2(g)</sub> + * &rarr; *NH2N(CH3)2'), 59: (Atoms(symbols='NCH3CH3NO', pbc=False), '*ONN(CH3)2', array([10]), '2 CO<sub>(g)</sub> + 4.0 H<sub>2(g)</sub> - H<sub>2</sub>O<sub>(g)</sub> + N<sub>2(g)</sub> + * &rarr; *ONN(CH3)2'), 60: (Atoms(symbols='N2OHCH3', pbc=False), '*OHNNCH3', array([2]), 'CO<sub>(g)</sub> + 2.0 H<sub>2(g)</sub> + N<sub>2(g)</sub> + * &rarr; *OHNNCH3'), 61: (Atoms(symbols='N2CH3', pbc=False), '*NNCH3', array([0]), 'CO<sub>(g)</sub> + 2.5 H<sub>2(g)</sub> - H<sub>2</sub>O<sub>(g)</sub> + N<sub>2(g)</sub> + * &rarr; *NNCH3'), 62: (Atoms(symbols='ONH', pbc=False), '*ONH', array([0]), '- -0.5 H<sub>2(g)</sub> + H<sub>2</sub>O<sub>(g)</sub> + 0.5 N<sub>2(g)</sub> + * &rarr; *ONH'), 63: (Atoms(symbols='NHNH', pbc=False), '*NHNH', array([0]), 'H<sub>2(g)</sub> + N<sub>2(g)</sub> + * &rarr; *NHNH'), 64: (Atoms(symbols='NH2NH2', pbc=False), '*NH2NH2', array([0]), '2.0 H<sub>2(g)</sub> + N<sub>2(g)</sub> + * &rarr; *NH2NH2'), 65: (Atoms(symbols='N2H', pbc=False), '*N*NH', array([0, 1]), '0.5 H<sub>2(g)</sub> + N<sub>2(g)</sub> + * &rarr; *N*NH'), 66: (Atoms(symbols='N2O3', pbc=False), '*ONNO2', array([4]), '- -3.0 H<sub>2(g)</sub> + 3 H<sub>2</sub>O<sub>(g)</sub> + N<sub>2(g)</sub> + * &rarr; *ONNO2'), 67: (Atoms(symbols='O4N2', pbc=False), '*NO2NO2', array([4]), '- -4.0 H<sub>2(g)</sub> + 4 H<sub>2</sub>O<sub>(g)</sub> + N<sub>2(g)</sub> + * &rarr; *NO2NO2'), 68: (Atoms(symbols='N2O', pbc=False), '*N*NO', array([0, 1]), '-H<sub>2(g)</sub> + H<sub>2</sub>O<sub>(g)</sub> + N<sub>2(g)</sub> + * &rarr; *N*NO'), 69: (Atoms(symbols='N2', pbc=False), '*N2', array([0]), 'N<sub>2(g)</sub> + * &rarr; *N2'), 70: (Atoms(symbols='NH2NO', pbc=False), '*ONNH2', array([4]), 'H<sub>2</sub>O<sub>(g)</sub> + N<sub>2(g)</sub> + * &rarr; *ONNH2'), 71: (Atoms(symbols='NH2', pbc=False), '*NH2', array([0]), 'H<sub>2(g)</sub> + 0.5 N<sub>2(g)</sub> + * &rarr; *NH2'), 72: (Atoms(symbols='NH3', pbc=False), '*NH3', array([0]), '1.5 H<sub>2(g)</sub> + 0.5 N<sub>2(g)</sub> + * &rarr; *NH3'), 73: (Atoms(symbols='NHNO', pbc=False), '*NONH', array([2]), '- -0.5 H<sub>2(g)</sub> + H<sub>2</sub>O<sub>(g)</sub> + N<sub>2(g)</sub> + * &rarr; *NONH'), 74: (Atoms(symbols='NH', pbc=False), '*NH', array([0]), '0.5 H<sub>2(g)</sub> + 0.5 N<sub>2(g)</sub> + * &rarr; *NH'), 75: (Atoms(symbols='NO2', pbc=False), '*NO2', array([0]), '- -2.0 H<sub>2(g)</sub> + 2 H<sub>2</sub>O<sub>(g)</sub> + 0.5 N<sub>2(g)</sub> + * &rarr; *NO2'), 76: (Atoms(symbols='NO', pbc=False), '*NO', array([0]), '-H<sub>2(g)</sub> + H<sub>2</sub>O<sub>(g)</sub> + 0.5 N<sub>2(g)</sub> + * &rarr; *NO'), 77: (Atoms(symbols='N', pbc=False), '*N', array([0]), '0.5 N<sub>2(g)</sub> + * &rarr; *N'), 78: (Atoms(symbols='NO3', pbc=False), '*NO3', array([0]), '- -3.0 H<sub>2(g)</sub> + 3 H<sub>2</sub>O<sub>(g)</sub> + 0.5 N<sub>2(g)</sub> + * &rarr; *NO3'), 79: (Atoms(symbols='NH2OH', pbc=False), '*OHNH2', array([3]), '0.5 H<sub>2(g)</sub> + H<sub>2</sub>O<sub>(g)</sub> + 0.5 N<sub>2(g)</sub> + * &rarr; *OHNH2'), 80: (Atoms(symbols='NO2H', pbc=False), '*ONOH', array([1]), '- -1.5 H<sub>2(g)</sub> + 2 H<sub>2</sub>O<sub>(g)</sub> + 0.5 N<sub>2(g)</sub> + * &rarr; *ONOH'), 81: (Atoms(symbols='CN', pbc=False), '*CN', array([0]), 'CO<sub>(g)</sub> + H<sub>2(g)</sub> - H<sub>2</sub>O<sub>(g)</sub> + 0.5 N<sub>2(g)</sub> + * &rarr; *CN'), 82: (Atoms(symbols='C2O2H', pbc=False), 'CO*COH', array([0]), '2 CO<sub>(g)</sub> + 0.5 H<sub>2(g)</sub> + * &rarr; CO*COH'), 83: (Atoms(symbols='O2CH', pbc=False), '*OCHO', array([0]), 'CO<sub>(g)</sub> - -0.5 H<sub>2(g)</sub> + H<sub>2</sub>O<sub>(g)</sub> + * &rarr; *OCHO'), 84: (Atoms(symbols='O2CH', pbc=False), '*COOH', array([2]), 'CO<sub>(g)</sub> - -0.5 H<sub>2(g)</sub> + H<sub>2</sub>O<sub>(g)</sub> + * &rarr; *COOH'), 85: (Atoms(symbols='O2H', pbc=False), '*OOH', array([0]), '- -1.5 H<sub>2(g)</sub> + 2 H<sub>2</sub>O<sub>(g)</sub> + * &rarr; *OOH')}\n",
            "Generated 42 adslabs for bulk ID 239\n",
            "Generated 42 adslabs for bulk ID 240\n",
            "Generated 7 adslabs for bulk ID 244\n",
            "Generated 7 adslabs for bulk ID 249\n",
            "Generated 44 adslabs for bulk ID 250\n",
            "Generated 96 adslabs for bulk ID 251\n",
            "Generated 32 adslabs for bulk ID 254\n",
            "Generated 58 adslabs for bulk ID 255\n",
            "Generated 44 adslabs for bulk ID 259\n",
            "Generated 18 adslabs for bulk ID 261\n"
          ]
        }
      ]
    },
    {
      "cell_type": "markdown",
      "source": [
        "위처럼 H붙인 slab만드는거까지는 gpt랑 같이짜거, 위까지 짜는데 1시간내외정도 걸림.문제는 adslab갯수가 장난아니라서 이걸 어떻게 쳐내야될지 기준을 수립하긴해야될듯. heuristicmethod말고 random method로 site 5개만 조사한다 뭐 이런기준도 괜찮을것같고.일단 12/20미팅용으로는 bulk수를 줄이든 ,111-like만 조사하든, random site 5개만 하든 해서, gemnet계산해야되는 slab수를 최대한 줄이자. 위와같은 방식으로 OH 흡착형태도 만들면된데이."
      ],
      "metadata": {
        "id": "xCjyTlpeiaDY"
      }
    }
  ],
  "metadata": {
    "colab": {
      "provenance": [],
      "machine_shape": "hm",
      "include_colab_link": true
    },
    "kernelspec": {
      "display_name": "Python 3",
      "name": "python3"
    },
    "language_info": {
      "name": "python"
    }
  },
  "nbformat": 4,
  "nbformat_minor": 0
}